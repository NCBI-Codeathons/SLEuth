{
 "cells": [
  {
   "cell_type": "code",
   "execution_count": 1,
   "metadata": {},
   "outputs": [],
   "source": [
    "%load_ext autoreload\n",
    "%autoreload 2\n",
    "import numpy as np\n",
    "import pandas as pd\n",
    "import allel\n",
    "import matplotlib.pyplot as plt\n",
    "from sklearn.decomposition import PCA"
   ]
  },
  {
   "cell_type": "markdown",
   "metadata": {},
   "source": [
    "# Import variants VCF file & Data Cleaning"
   ]
  },
  {
   "cell_type": "code",
   "execution_count": 2,
   "metadata": {},
   "outputs": [],
   "source": [
    "vcf = allel.read_vcf(\"data/raw/1349 sample and all 253k unfiltered SNPs.vcf\", )\n",
    "variants = np.char.array(vcf[\"variants/CHROM\"].astype(str)) + \":\" + np.char.array(vcf[\"variants/POS\"].astype(str))"
   ]
  },
  {
   "cell_type": "code",
   "execution_count": 3,
   "metadata": {},
   "outputs": [],
   "source": [
    "vcf_arr = vcf[\"calldata/GT\"].astype(\"float\")\n",
    "vcf_arr[vcf_arr == -1] = np.nan"
   ]
  },
  {
   "cell_type": "code",
   "execution_count": 4,
   "metadata": {},
   "outputs": [
    {
     "data": {
      "text/plain": [
       "(1349, 253708)"
      ]
     },
     "execution_count": 4,
     "metadata": {},
     "output_type": "execute_result"
    }
   ],
   "source": [
    "mutations = vcf_arr\n",
    "# mutations = np.abs(mutations)\n",
    "mutations = mutations.sum(axis=2)\n",
    "mutations = mutations.T\n",
    "mutations.shape"
   ]
  },
  {
   "cell_type": "code",
   "execution_count": 5,
   "metadata": {},
   "outputs": [
    {
     "data": {
      "text/plain": [
       "(1349, 253708)"
      ]
     },
     "execution_count": 5,
     "metadata": {},
     "output_type": "execute_result"
    }
   ],
   "source": [
    "mutations_df = pd.DataFrame(data=mutations, index=vcf[\"samples\"], columns=variants)\n",
    "mutations_df.shape"
   ]
  },
  {
   "cell_type": "code",
   "execution_count": 6,
   "metadata": {},
   "outputs": [
    {
     "data": {
      "text/plain": [
       "(1349, 244975)"
      ]
     },
     "execution_count": 6,
     "metadata": {},
     "output_type": "execute_result"
    }
   ],
   "source": [
    "mutations_df.dropna(axis=1, how=\"any\", thresh=800, inplace=True)\n",
    "mutations_df.shape"
   ]
  },
  {
   "cell_type": "code",
   "execution_count": 7,
   "metadata": {},
   "outputs": [],
   "source": [
    "mutations_df.dropna(axis=0, how=\"any\", thresh=200000, inplace=True)\n",
    "mutations_df.fillna(value=0, inplace=True)"
   ]
  },
  {
   "cell_type": "code",
   "execution_count": 8,
   "metadata": {},
   "outputs": [
    {
     "data": {
      "text/plain": [
       "0"
      ]
     },
     "execution_count": 8,
     "metadata": {},
     "output_type": "execute_result"
    }
   ],
   "source": [
    "mutations_df.isna().sum().sum()"
   ]
  },
  {
   "cell_type": "markdown",
   "metadata": {},
   "source": [
    "# Subset patients"
   ]
  },
  {
   "cell_type": "code",
   "execution_count": 9,
   "metadata": {
    "scrolled": true
   },
   "outputs": [],
   "source": [
    "samples_phenotypes = pd.read_table(\"data/raw/Sample metadata.csv\", sep=\",\")\n",
    "samples_phenotypes.set_index(\"ID\", inplace=True)"
   ]
  },
  {
   "cell_type": "code",
   "execution_count": 10,
   "metadata": {},
   "outputs": [],
   "source": [
    "good_samples = pd.read_table(\"data/interim/samples_metadata.csv\", sep=\",\")\n",
    "good_samples.set_index(\"ID\", inplace=True)\n",
    "good_samples = good_samples[good_samples[\"SRC\"] != \"LGS\"]\n",
    "good_samples = good_samples[good_samples[\"SRC\"] != \"D2\"]\n",
    "good_samples = good_samples[good_samples[\"SRC\"] != \"U2\"]"
   ]
  },
  {
   "cell_type": "code",
   "execution_count": 11,
   "metadata": {},
   "outputs": [
    {
     "data": {
      "text/plain": [
       "(634, 4)"
      ]
     },
     "execution_count": 11,
     "metadata": {},
     "output_type": "execute_result"
    }
   ],
   "source": [
    "SLE_samples = good_samples[good_samples[\"SLE\"] == 1]\n",
    "SLE_samples.shape"
   ]
  },
  {
   "cell_type": "code",
   "execution_count": 12,
   "metadata": {},
   "outputs": [],
   "source": [
    "hla_protein_samples = pd.Index(['55062', '56104', '34903', '16820', '41060', '54687', '44119', '48523',\n",
    "       '33287', '14947', '21560', '87483', '42335', '30146', '28289', '40007'])"
   ]
  },
  {
   "cell_type": "code",
   "execution_count": 13,
   "metadata": {},
   "outputs": [
    {
     "data": {
      "text/plain": [
       "(4,)"
      ]
     },
     "execution_count": 13,
     "metadata": {},
     "output_type": "execute_result"
    }
   ],
   "source": [
    "highdsdna_samples = pd.Index([\"32588\", \"55062\"]) # High dsDNA\n",
    "lowdsdna_samples = pd.Index([\"54687\", \"16820\"]) # low dsDNA\n",
    "validation_samples = highdsdna_samples.append(lowdsdna_samples)\n",
    "validation_samples.shape"
   ]
  },
  {
   "cell_type": "code",
   "execution_count": 14,
   "metadata": {},
   "outputs": [
    {
     "data": {
      "text/plain": [
       "(630,)"
      ]
     },
     "execution_count": 14,
     "metadata": {},
     "output_type": "execute_result"
    }
   ],
   "source": [
    "training_samples = SLE_samples.index[~SLE_samples.index.isin(validation_samples)]\n",
    "training_samples.shape"
   ]
  },
  {
   "cell_type": "markdown",
   "metadata": {},
   "source": [
    "# Filtered data"
   ]
  },
  {
   "cell_type": "code",
   "execution_count": 105,
   "metadata": {},
   "outputs": [
    {
     "data": {
      "text/plain": [
       "(4, 244975)"
      ]
     },
     "execution_count": 105,
     "metadata": {},
     "output_type": "execute_result"
    }
   ],
   "source": [
    "# filtered_df = mutations_df\n",
    "training_df = mutations_df.filter(items=training_samples, axis=0)\n",
    "training_df.shape\n",
    "\n",
    "validation_df = mutations_df.filter(items=validation_samples, axis=0)\n",
    "validation_df.shape"
   ]
  },
  {
   "cell_type": "markdown",
   "metadata": {},
   "source": [
    "# Use PCA feature selction model"
   ]
  },
  {
   "cell_type": "code",
   "execution_count": 106,
   "metadata": {},
   "outputs": [],
   "source": [
    "from src.features.PCA_feature_selection import PCA_Variants2Gene_FeatureSelection"
   ]
  },
  {
   "cell_type": "code",
   "execution_count": 107,
   "metadata": {},
   "outputs": [
    {
     "name": "stderr",
     "output_type": "stream",
     "text": [
      "/Users/jonny/anaconda3/lib/python3.6/site-packages/IPython/core/interactiveshell.py:3249: DtypeWarning: Columns (2) have mixed types. Specify dtype option on import or set low_memory=False.\n",
      "  if (await self.run_code(code, result,  async_=asy)):\n"
     ]
    }
   ],
   "source": [
    "pca_v2g = PCA_Variants2Gene_FeatureSelection(variants_genes_path=\"data/interim/variants_top56_genes.csv\",\n",
    "                 variance_threshold=0.80)"
   ]
  },
  {
   "cell_type": "code",
   "execution_count": 108,
   "metadata": {
    "scrolled": true
   },
   "outputs": [],
   "source": [
    "training_X1 = pca_v2g.fit_transform(training_df)\n",
    "training_X1.index.name = \"patient_id\""
   ]
  },
  {
   "cell_type": "code",
   "execution_count": 109,
   "metadata": {},
   "outputs": [
    {
     "data": {
      "text/plain": [
       "(4, 1386)"
      ]
     },
     "execution_count": 109,
     "metadata": {},
     "output_type": "execute_result"
    }
   ],
   "source": [
    "validation_X1 = pca_v2g.transform(validation_df)\n",
    "validation_X1.index.name = \"patient_id\"\n",
    "validation_X1.shape"
   ]
  },
  {
   "cell_type": "code",
   "execution_count": 115,
   "metadata": {},
   "outputs": [
    {
     "data": {
      "text/html": [
       "<div>\n",
       "<style scoped>\n",
       "    .dataframe tbody tr th:only-of-type {\n",
       "        vertical-align: middle;\n",
       "    }\n",
       "\n",
       "    .dataframe tbody tr th {\n",
       "        vertical-align: top;\n",
       "    }\n",
       "\n",
       "    .dataframe thead th {\n",
       "        text-align: right;\n",
       "    }\n",
       "</style>\n",
       "<table border=\"1\" class=\"dataframe\">\n",
       "  <thead>\n",
       "    <tr style=\"text-align: right;\">\n",
       "      <th></th>\n",
       "      <th>BANK1</th>\n",
       "      <th>BIK</th>\n",
       "      <th>BLK</th>\n",
       "      <th>BTNL2</th>\n",
       "      <th>CDHR5</th>\n",
       "      <th>CEP70</th>\n",
       "      <th>CHD7</th>\n",
       "      <th>CNTNAP2</th>\n",
       "      <th>DAP</th>\n",
       "      <th>DAPK1</th>\n",
       "      <th>...</th>\n",
       "      <th>TNFAIP3</th>\n",
       "      <th>TNFRSF13B</th>\n",
       "      <th>TNFSF4</th>\n",
       "      <th>TNIP1</th>\n",
       "      <th>TNPO3</th>\n",
       "      <th>TSPO</th>\n",
       "      <th>TTLL12</th>\n",
       "      <th>TYK2</th>\n",
       "      <th>UBE2L3</th>\n",
       "      <th>XKR6</th>\n",
       "    </tr>\n",
       "    <tr>\n",
       "      <th>patient_id</th>\n",
       "      <th></th>\n",
       "      <th></th>\n",
       "      <th></th>\n",
       "      <th></th>\n",
       "      <th></th>\n",
       "      <th></th>\n",
       "      <th></th>\n",
       "      <th></th>\n",
       "      <th></th>\n",
       "      <th></th>\n",
       "      <th></th>\n",
       "      <th></th>\n",
       "      <th></th>\n",
       "      <th></th>\n",
       "      <th></th>\n",
       "      <th></th>\n",
       "      <th></th>\n",
       "      <th></th>\n",
       "      <th></th>\n",
       "      <th></th>\n",
       "      <th></th>\n",
       "    </tr>\n",
       "  </thead>\n",
       "  <tbody>\n",
       "    <tr>\n",
       "      <th>Betty_Ill_4901_2</th>\n",
       "      <td>4.543426</td>\n",
       "      <td>4.315397</td>\n",
       "      <td>7.554308</td>\n",
       "      <td>14.787151</td>\n",
       "      <td>0.379215</td>\n",
       "      <td>0.529127</td>\n",
       "      <td>7.058008</td>\n",
       "      <td>4.508480</td>\n",
       "      <td>5.303511</td>\n",
       "      <td>5.596666</td>\n",
       "      <td>...</td>\n",
       "      <td>1.615045</td>\n",
       "      <td>1.854821</td>\n",
       "      <td>6.147854</td>\n",
       "      <td>2.531327</td>\n",
       "      <td>3.252360</td>\n",
       "      <td>4.626058</td>\n",
       "      <td>14.677509</td>\n",
       "      <td>2.322530</td>\n",
       "      <td>2.201652</td>\n",
       "      <td>8.243707</td>\n",
       "    </tr>\n",
       "    <tr>\n",
       "      <th>ucl223ILL1</th>\n",
       "      <td>7.812316</td>\n",
       "      <td>0.808034</td>\n",
       "      <td>9.546865</td>\n",
       "      <td>23.009482</td>\n",
       "      <td>0.757008</td>\n",
       "      <td>3.288532</td>\n",
       "      <td>35.710019</td>\n",
       "      <td>2.469507</td>\n",
       "      <td>14.007009</td>\n",
       "      <td>14.555934</td>\n",
       "      <td>...</td>\n",
       "      <td>4.886105</td>\n",
       "      <td>1.607361</td>\n",
       "      <td>4.161990</td>\n",
       "      <td>5.393497</td>\n",
       "      <td>3.200672</td>\n",
       "      <td>0.684763</td>\n",
       "      <td>3.145755</td>\n",
       "      <td>0.902030</td>\n",
       "      <td>2.104258</td>\n",
       "      <td>9.626655</td>\n",
       "    </tr>\n",
       "    <tr>\n",
       "      <th>Betty_Ill_3822_2</th>\n",
       "      <td>4.297624</td>\n",
       "      <td>1.464830</td>\n",
       "      <td>8.872854</td>\n",
       "      <td>4.373193</td>\n",
       "      <td>0.283669</td>\n",
       "      <td>3.004645</td>\n",
       "      <td>6.409900</td>\n",
       "      <td>3.154451</td>\n",
       "      <td>5.621608</td>\n",
       "      <td>5.648221</td>\n",
       "      <td>...</td>\n",
       "      <td>1.132558</td>\n",
       "      <td>2.379395</td>\n",
       "      <td>3.996258</td>\n",
       "      <td>5.365349</td>\n",
       "      <td>2.932886</td>\n",
       "      <td>1.761504</td>\n",
       "      <td>12.898639</td>\n",
       "      <td>1.034957</td>\n",
       "      <td>1.875921</td>\n",
       "      <td>16.532480</td>\n",
       "    </tr>\n",
       "    <tr>\n",
       "      <th>Betty_Ill_5103_2</th>\n",
       "      <td>7.202429</td>\n",
       "      <td>0.533356</td>\n",
       "      <td>2.108174</td>\n",
       "      <td>7.332118</td>\n",
       "      <td>0.425170</td>\n",
       "      <td>0.929420</td>\n",
       "      <td>6.021099</td>\n",
       "      <td>3.527226</td>\n",
       "      <td>5.311540</td>\n",
       "      <td>5.494219</td>\n",
       "      <td>...</td>\n",
       "      <td>3.486573</td>\n",
       "      <td>2.466090</td>\n",
       "      <td>1.858644</td>\n",
       "      <td>6.440220</td>\n",
       "      <td>2.547993</td>\n",
       "      <td>2.632352</td>\n",
       "      <td>10.143327</td>\n",
       "      <td>1.322129</td>\n",
       "      <td>2.092397</td>\n",
       "      <td>5.919384</td>\n",
       "    </tr>\n",
       "    <tr>\n",
       "      <th>Betty_Ill_1045_2</th>\n",
       "      <td>6.375874</td>\n",
       "      <td>1.242393</td>\n",
       "      <td>8.167650</td>\n",
       "      <td>10.045328</td>\n",
       "      <td>0.552108</td>\n",
       "      <td>0.814061</td>\n",
       "      <td>5.921651</td>\n",
       "      <td>2.859795</td>\n",
       "      <td>6.322176</td>\n",
       "      <td>6.317476</td>\n",
       "      <td>...</td>\n",
       "      <td>5.887496</td>\n",
       "      <td>2.944000</td>\n",
       "      <td>5.229558</td>\n",
       "      <td>4.928418</td>\n",
       "      <td>2.846442</td>\n",
       "      <td>2.566127</td>\n",
       "      <td>10.808771</td>\n",
       "      <td>1.495729</td>\n",
       "      <td>2.562685</td>\n",
       "      <td>8.475116</td>\n",
       "    </tr>\n",
       "    <tr>\n",
       "      <th>...</th>\n",
       "      <td>...</td>\n",
       "      <td>...</td>\n",
       "      <td>...</td>\n",
       "      <td>...</td>\n",
       "      <td>...</td>\n",
       "      <td>...</td>\n",
       "      <td>...</td>\n",
       "      <td>...</td>\n",
       "      <td>...</td>\n",
       "      <td>...</td>\n",
       "      <td>...</td>\n",
       "      <td>...</td>\n",
       "      <td>...</td>\n",
       "      <td>...</td>\n",
       "      <td>...</td>\n",
       "      <td>...</td>\n",
       "      <td>...</td>\n",
       "      <td>...</td>\n",
       "      <td>...</td>\n",
       "      <td>...</td>\n",
       "      <td>...</td>\n",
       "    </tr>\n",
       "    <tr>\n",
       "      <th>40007</th>\n",
       "      <td>8.606496</td>\n",
       "      <td>1.430887</td>\n",
       "      <td>11.575283</td>\n",
       "      <td>19.420497</td>\n",
       "      <td>0.805513</td>\n",
       "      <td>2.762047</td>\n",
       "      <td>6.201703</td>\n",
       "      <td>4.821159</td>\n",
       "      <td>7.562093</td>\n",
       "      <td>7.906954</td>\n",
       "      <td>...</td>\n",
       "      <td>1.623404</td>\n",
       "      <td>2.005835</td>\n",
       "      <td>3.354235</td>\n",
       "      <td>6.928378</td>\n",
       "      <td>4.761586</td>\n",
       "      <td>2.524838</td>\n",
       "      <td>12.280913</td>\n",
       "      <td>3.731808</td>\n",
       "      <td>4.763872</td>\n",
       "      <td>13.320230</td>\n",
       "    </tr>\n",
       "    <tr>\n",
       "      <th>32588</th>\n",
       "      <td>6.273376</td>\n",
       "      <td>2.191041</td>\n",
       "      <td>4.316907</td>\n",
       "      <td>5.844346</td>\n",
       "      <td>0.305117</td>\n",
       "      <td>4.535560</td>\n",
       "      <td>12.518715</td>\n",
       "      <td>4.601024</td>\n",
       "      <td>12.419237</td>\n",
       "      <td>14.012239</td>\n",
       "      <td>...</td>\n",
       "      <td>14.463460</td>\n",
       "      <td>3.640093</td>\n",
       "      <td>3.100795</td>\n",
       "      <td>4.288370</td>\n",
       "      <td>3.462439</td>\n",
       "      <td>1.146261</td>\n",
       "      <td>5.525801</td>\n",
       "      <td>3.111818</td>\n",
       "      <td>2.507143</td>\n",
       "      <td>4.109003</td>\n",
       "    </tr>\n",
       "    <tr>\n",
       "      <th>55062</th>\n",
       "      <td>6.720956</td>\n",
       "      <td>1.971363</td>\n",
       "      <td>5.667004</td>\n",
       "      <td>12.974628</td>\n",
       "      <td>0.425170</td>\n",
       "      <td>0.657565</td>\n",
       "      <td>10.349475</td>\n",
       "      <td>9.917201</td>\n",
       "      <td>7.112833</td>\n",
       "      <td>7.098817</td>\n",
       "      <td>...</td>\n",
       "      <td>1.904191</td>\n",
       "      <td>1.917151</td>\n",
       "      <td>3.045395</td>\n",
       "      <td>4.130019</td>\n",
       "      <td>2.888869</td>\n",
       "      <td>6.708351</td>\n",
       "      <td>10.688296</td>\n",
       "      <td>1.429172</td>\n",
       "      <td>2.042935</td>\n",
       "      <td>7.851651</td>\n",
       "    </tr>\n",
       "    <tr>\n",
       "      <th>54687</th>\n",
       "      <td>6.534235</td>\n",
       "      <td>1.932054</td>\n",
       "      <td>9.875203</td>\n",
       "      <td>25.142566</td>\n",
       "      <td>0.630218</td>\n",
       "      <td>3.544224</td>\n",
       "      <td>7.597259</td>\n",
       "      <td>6.152881</td>\n",
       "      <td>6.169067</td>\n",
       "      <td>3.742907</td>\n",
       "      <td>...</td>\n",
       "      <td>5.401920</td>\n",
       "      <td>2.334831</td>\n",
       "      <td>6.110028</td>\n",
       "      <td>5.609022</td>\n",
       "      <td>1.978528</td>\n",
       "      <td>1.325025</td>\n",
       "      <td>6.675694</td>\n",
       "      <td>2.520343</td>\n",
       "      <td>2.884127</td>\n",
       "      <td>14.803337</td>\n",
       "    </tr>\n",
       "    <tr>\n",
       "      <th>16820</th>\n",
       "      <td>7.039455</td>\n",
       "      <td>1.507481</td>\n",
       "      <td>14.633865</td>\n",
       "      <td>6.733317</td>\n",
       "      <td>0.776594</td>\n",
       "      <td>1.042397</td>\n",
       "      <td>9.186498</td>\n",
       "      <td>3.823627</td>\n",
       "      <td>6.675342</td>\n",
       "      <td>6.353477</td>\n",
       "      <td>...</td>\n",
       "      <td>4.172754</td>\n",
       "      <td>2.539357</td>\n",
       "      <td>3.500417</td>\n",
       "      <td>2.548641</td>\n",
       "      <td>5.966270</td>\n",
       "      <td>2.174961</td>\n",
       "      <td>7.249804</td>\n",
       "      <td>1.548683</td>\n",
       "      <td>5.803565</td>\n",
       "      <td>12.210505</td>\n",
       "    </tr>\n",
       "  </tbody>\n",
       "</table>\n",
       "<p>634 rows × 53 columns</p>\n",
       "</div>"
      ],
      "text/plain": [
       "                     BANK1       BIK        BLK      BTNL2     CDHR5  \\\n",
       "patient_id                                                             \n",
       "Betty_Ill_4901_2  4.543426  4.315397   7.554308  14.787151  0.379215   \n",
       "ucl223ILL1        7.812316  0.808034   9.546865  23.009482  0.757008   \n",
       "Betty_Ill_3822_2  4.297624  1.464830   8.872854   4.373193  0.283669   \n",
       "Betty_Ill_5103_2  7.202429  0.533356   2.108174   7.332118  0.425170   \n",
       "Betty_Ill_1045_2  6.375874  1.242393   8.167650  10.045328  0.552108   \n",
       "...                    ...       ...        ...        ...       ...   \n",
       "40007             8.606496  1.430887  11.575283  19.420497  0.805513   \n",
       "32588             6.273376  2.191041   4.316907   5.844346  0.305117   \n",
       "55062             6.720956  1.971363   5.667004  12.974628  0.425170   \n",
       "54687             6.534235  1.932054   9.875203  25.142566  0.630218   \n",
       "16820             7.039455  1.507481  14.633865   6.733317  0.776594   \n",
       "\n",
       "                     CEP70       CHD7   CNTNAP2        DAP      DAPK1  ...  \\\n",
       "patient_id                                                             ...   \n",
       "Betty_Ill_4901_2  0.529127   7.058008  4.508480   5.303511   5.596666  ...   \n",
       "ucl223ILL1        3.288532  35.710019  2.469507  14.007009  14.555934  ...   \n",
       "Betty_Ill_3822_2  3.004645   6.409900  3.154451   5.621608   5.648221  ...   \n",
       "Betty_Ill_5103_2  0.929420   6.021099  3.527226   5.311540   5.494219  ...   \n",
       "Betty_Ill_1045_2  0.814061   5.921651  2.859795   6.322176   6.317476  ...   \n",
       "...                    ...        ...       ...        ...        ...  ...   \n",
       "40007             2.762047   6.201703  4.821159   7.562093   7.906954  ...   \n",
       "32588             4.535560  12.518715  4.601024  12.419237  14.012239  ...   \n",
       "55062             0.657565  10.349475  9.917201   7.112833   7.098817  ...   \n",
       "54687             3.544224   7.597259  6.152881   6.169067   3.742907  ...   \n",
       "16820             1.042397   9.186498  3.823627   6.675342   6.353477  ...   \n",
       "\n",
       "                    TNFAIP3  TNFRSF13B    TNFSF4     TNIP1     TNPO3  \\\n",
       "patient_id                                                             \n",
       "Betty_Ill_4901_2   1.615045   1.854821  6.147854  2.531327  3.252360   \n",
       "ucl223ILL1         4.886105   1.607361  4.161990  5.393497  3.200672   \n",
       "Betty_Ill_3822_2   1.132558   2.379395  3.996258  5.365349  2.932886   \n",
       "Betty_Ill_5103_2   3.486573   2.466090  1.858644  6.440220  2.547993   \n",
       "Betty_Ill_1045_2   5.887496   2.944000  5.229558  4.928418  2.846442   \n",
       "...                     ...        ...       ...       ...       ...   \n",
       "40007              1.623404   2.005835  3.354235  6.928378  4.761586   \n",
       "32588             14.463460   3.640093  3.100795  4.288370  3.462439   \n",
       "55062              1.904191   1.917151  3.045395  4.130019  2.888869   \n",
       "54687              5.401920   2.334831  6.110028  5.609022  1.978528   \n",
       "16820              4.172754   2.539357  3.500417  2.548641  5.966270   \n",
       "\n",
       "                      TSPO     TTLL12      TYK2    UBE2L3       XKR6  \n",
       "patient_id                                                            \n",
       "Betty_Ill_4901_2  4.626058  14.677509  2.322530  2.201652   8.243707  \n",
       "ucl223ILL1        0.684763   3.145755  0.902030  2.104258   9.626655  \n",
       "Betty_Ill_3822_2  1.761504  12.898639  1.034957  1.875921  16.532480  \n",
       "Betty_Ill_5103_2  2.632352  10.143327  1.322129  2.092397   5.919384  \n",
       "Betty_Ill_1045_2  2.566127  10.808771  1.495729  2.562685   8.475116  \n",
       "...                    ...        ...       ...       ...        ...  \n",
       "40007             2.524838  12.280913  3.731808  4.763872  13.320230  \n",
       "32588             1.146261   5.525801  3.111818  2.507143   4.109003  \n",
       "55062             6.708351  10.688296  1.429172  2.042935   7.851651  \n",
       "54687             1.325025   6.675694  2.520343  2.884127  14.803337  \n",
       "16820             2.174961   7.249804  1.548683  5.803565  12.210505  \n",
       "\n",
       "[634 rows x 53 columns]"
      ]
     },
     "execution_count": 115,
     "metadata": {},
     "output_type": "execute_result"
    }
   ],
   "source": [
    "training_gene_scores = pca_v2g.get_gene_variability_score(pd.concat([training_df, validation_df], axis=0))\n",
    "training_gene_scores"
   ]
  },
  {
   "cell_type": "code",
   "execution_count": 116,
   "metadata": {},
   "outputs": [],
   "source": [
    "training_gene_scores.to_csv(\"data/processed/allsamples_gene_variability_scores.csv\")"
   ]
  },
  {
   "cell_type": "code",
   "execution_count": null,
   "metadata": {},
   "outputs": [],
   "source": [
    "# training_X1.to_csv(\"data/processed/training_pca_projs.csv\")\n",
    "# validation_X1.to_csv(\"data/processed/validation_pca_projs.csv\")"
   ]
  },
  {
   "cell_type": "markdown",
   "metadata": {},
   "source": [
    "# Subset variants by gene"
   ]
  },
  {
   "cell_type": "code",
   "execution_count": 47,
   "metadata": {
    "scrolled": true
   },
   "outputs": [],
   "source": [
    "variants_top56_genes = pd.read_table(\"../data/interim/variants_top56_genes.csv\", sep=\",\")\n",
    "variants_top56_genes.set_index(\"Variant ID\", inplace=True)\n",
    "variants_top56_genes = variants_top56_genes.filter(items=[\"Gene(s)\", \"Variant ID\"])"
   ]
  },
  {
   "cell_type": "code",
   "execution_count": 75,
   "metadata": {},
   "outputs": [],
   "source": [
    "genes_matched_variants = filtered_df.columns & variants_top56_genes.index"
   ]
  },
  {
   "cell_type": "code",
   "execution_count": 76,
   "metadata": {},
   "outputs": [],
   "source": [
    "mutations_gene_matched = filtered_df.T.join(variants_top56_genes, how=\"right\")"
   ]
  },
  {
   "cell_type": "code",
   "execution_count": null,
   "metadata": {
    "scrolled": true
   },
   "outputs": [],
   "source": [
    "mutations_by_gene = {}\n",
    "mutations_gene_gb = mutations_gene_matched.groupby(\"Gene(s)\")\n",
    "for x in mutations_gene_gb.groups:\n",
    "    mutations_gene_df = mutations_gene_gb.get_group(x)\n",
    "    gene_name = mutations_gene_df[\"Gene(s)\"].iloc[0]\n",
    "    print(gene_name)\n",
    "    mutations_gene_df = mutations_gene_df.drop(columns=[\"Gene(s)\"]).dropna(axis=0).T\n",
    "#     mutations_gene_df.to_csv(\"../data/processed/SNPs_by_gene/\"+gene_name+\".csv\")\n",
    "    mutations_by_gene[gene_name] = mutations_gene_df"
   ]
  },
  {
   "cell_type": "markdown",
   "metadata": {},
   "source": [
    "# Gene - mutations"
   ]
  },
  {
   "cell_type": "code",
   "execution_count": 66,
   "metadata": {
    "scrolled": true
   },
   "outputs": [],
   "source": [
    "variant_genes = pd.read_table(\"../data/raw/216k Variants with gene name.csv\", sep=\",\")\n",
    "variant_genes = variant_genes[variant_genes[\"Gene(s)\"] != \"?\"]\n",
    "# variant_genes = variant_genes.filter(items=[\"Gene(s)\", \"Variant ID\"])\n",
    "variant_genes[\"Position\"] = variant_genes[\"Position\"].astype(\"object\")"
   ]
  },
  {
   "cell_type": "code",
   "execution_count": 73,
   "metadata": {},
   "outputs": [],
   "source": [
    "genes_56 = variant_genes[\"Gene(s)\"].value_counts()[:56]"
   ]
  },
  {
   "cell_type": "markdown",
   "metadata": {},
   "source": [
    "# Compute PCA projections of all SNP data"
   ]
  },
  {
   "cell_type": "code",
   "execution_count": 55,
   "metadata": {},
   "outputs": [
    {
     "data": {
      "text/plain": [
       "<BarContainer object of 53 artists>"
      ]
     },
     "execution_count": 55,
     "metadata": {},
     "output_type": "execute_result"
    },
    {
     "data": {
      "image/png": "[encoded data removed]",
      "text/plain": [
       "<Figure size 1800x1050 with 1 Axes>"
      ]
     },
     "metadata": {
      "needs_background": "light"
     },
     "output_type": "display_data"
    }
   ],
   "source": [
    "mutation_gene_dict = pca_v2g.get_mutations_by_gene_dict(validation_df)\n",
    "genes = list(mutation_gene_dict.keys())\n",
    "num_top_components = [mutation_gene_dict[gene].shape[1] for gene in genes]\n",
    "plt.figure(figsize=(12, 7), dpi=150)\n",
    "plt.title(\"Number of Mutation Sites by Gene\")\n",
    "plt.xlabel(\"Genes\")\n",
    "plt.xticks(rotation=90)\n",
    "plt.ylabel(\"# of Mutations\")\n",
    "plt.bar(x=genes, height=num_top_components)"
   ]
  },
  {
   "cell_type": "code",
   "execution_count": 59,
   "metadata": {},
   "outputs": [
    {
     "data": {
      "text/plain": [
       "(630, 1386)"
      ]
     },
     "execution_count": 59,
     "metadata": {},
     "output_type": "execute_result"
    }
   ],
   "source": [
    "training_X1.shape"
   ]
  },
  {
   "cell_type": "code",
   "execution_count": 58,
   "metadata": {},
   "outputs": [
    {
     "name": "stdout",
     "output_type": "stream",
     "text": [
      "1386\n"
     ]
    },
    {
     "data": {
      "text/plain": [
       "<BarContainer object of 53 artists>"
      ]
     },
     "execution_count": 58,
     "metadata": {},
     "output_type": "execute_result"
    },
    {
     "data": {
      "image/png": "[encoded data removed]",
      "text/plain": [
       "<Figure size 1800x1050 with 1 Axes>"
      ]
     },
     "metadata": {
      "needs_background": "light"
     },
     "output_type": "display_data"
    }
   ],
   "source": [
    "genes = list(pca_v2g.top_k_PC_by_gene.keys())\n",
    "num_top_components = [pca_v2g.top_k_PC_by_gene[gene] for gene in genes]\n",
    "print(np.sum(num_top_components))\n",
    "plt.figure(figsize=(12, 7), dpi=150)\n",
    "plt.title(\"Top-k PCA components selected with 90% variance threshold, split by genes, only SLE\")\n",
    "plt.xlabel(\"Genes\")\n",
    "plt.xticks(rotation=90)\n",
    "plt.ylabel(\"# of PCA components selected\")\n",
    "plt.bar(x=genes, height=num_top_components)"
   ]
  },
  {
   "cell_type": "code",
   "execution_count": 146,
   "metadata": {},
   "outputs": [],
   "source": [
    "patient_gene_proj_scores.to_csv(\"../data/interim/patient_gene_proj_scores.csv\")"
   ]
  },
  {
   "cell_type": "markdown",
   "metadata": {},
   "source": [
    "# Select variants by percentile"
   ]
  },
  {
   "cell_type": "code",
   "execution_count": 172,
   "metadata": {
    "scrolled": true
   },
   "outputs": [
    {
     "name": "stdout",
     "output_type": "stream",
     "text": [
      "BANK1 6828 2049\n",
      "BIK 911 273\n",
      "BLK 2937 881\n",
      "BTNL2 968 290\n",
      "CDHR5 338 102\n",
      "CEP70 972 292\n",
      "CHD7 2429 729\n",
      "CNTNAP2 2484 745\n",
      "DAP 2011 603\n",
      "DAPK1 6835 2051\n",
      "DSCAM 3179 954\n",
      "DSCAML1 998 300\n",
      "ETS1 2889 867\n",
      "FAIM 994 298\n",
      "GSDMB 685 206\n",
      "HLA-DOB 129 39\n",
      "HLA-DQA1 1275 383\n",
      "HLA-DQA2 492 148\n",
      "HLA-DQB1 1578 474\n",
      "HLA-DQB2 473 142\n",
      "HLA-DRA 263 79\n",
      "HLA-DRB1 3409 1023\n",
      "HLA-DRB5 3760 1127\n",
      "ICA1 4165 1250\n",
      "ICAM1 1043 313\n",
      "IKZF3 3781 1134\n",
      "IRF5 397 119\n",
      "IRF8 668 201\n",
      "ITGAM 2982 895\n",
      "ITGAX 1057 317\n",
      "MECP2 2902 871\n",
      "NMNAT2 5815 1745\n",
      "PHRF1 1800 540\n",
      "PRDM1 545 163\n",
      "PXK 3989 1197\n",
      "RAVER1 755 227\n",
      "ROBO3 351 105\n",
      "ROBO4 330 99\n",
      "SCUBE1 4588 1377\n",
      "SMG7 1941 582\n",
      "STAT4 2755 827\n",
      "TAP2 548 165\n",
      "TLR7 597 179\n",
      "TNFAIP3 305 92\n",
      "TNFRSF13B 1214 364\n",
      "TNFSF4 538 162\n",
      "TNIP1 1628 489\n",
      "TNPO3 4060 1218\n",
      "TSPO 633 190\n",
      "TTLL12 890 267\n",
      "TYK2 2155 647\n",
      "UBE2L3 4022 1207\n",
      "XKR6 10417 3125\n"
     ]
    }
   ],
   "source": [
    "top_variants_by_gene = {}\n",
    "for gene in mutations_by_gene.keys():\n",
    "    top_variants_by_gene[gene] = select_top_variants(mutations_by_gene[gene], var_threshold=0.80, coef_percentile=70)\n",
    "    print(gene, mutations_by_gene[gene].shape[1],  top_variants_by_gene[gene].shape[0])"
   ]
  },
  {
   "cell_type": "code",
   "execution_count": 176,
   "metadata": {},
   "outputs": [
    {
     "data": {
      "text/plain": [
       "34122"
      ]
     },
     "execution_count": 176,
     "metadata": {},
     "output_type": "execute_result"
    }
   ],
   "source": [
    "all_top_variants = []\n",
    "for gene in top_variants_by_gene.keys():\n",
    "    all_top_variants.extend(top_variants_by_gene[gene])\n",
    "len(all_top_variants)"
   ]
  },
  {
   "cell_type": "markdown",
   "metadata": {},
   "source": [
    "# Concatenate all selected variant into one DataFrame"
   ]
  },
  {
   "cell_type": "code",
   "execution_count": 182,
   "metadata": {},
   "outputs": [],
   "source": [
    "mutations_df = mutations_df.loc[:,~mutations_df.columns.duplicated()]"
   ]
  },
  {
   "cell_type": "code",
   "execution_count": 183,
   "metadata": {},
   "outputs": [],
   "source": [
    "mutations_top_variants_df = mutations_df.filter(items=all_top_variants)"
   ]
  },
  {
   "cell_type": "code",
   "execution_count": 184,
   "metadata": {},
   "outputs": [
    {
     "data": {
      "text/html": [
       "<div>\n",
       "<style scoped>\n",
       "    .dataframe tbody tr th:only-of-type {\n",
       "        vertical-align: middle;\n",
       "    }\n",
       "\n",
       "    .dataframe tbody tr th {\n",
       "        vertical-align: top;\n",
       "    }\n",
       "\n",
       "    .dataframe thead th {\n",
       "        text-align: right;\n",
       "    }\n",
       "</style>\n",
       "<table border=\"1\" class=\"dataframe\">\n",
       "  <thead>\n",
       "    <tr style=\"text-align: right;\">\n",
       "      <th></th>\n",
       "      <th>4:102711068</th>\n",
       "      <th>4:102712657</th>\n",
       "      <th>4:102713097</th>\n",
       "      <th>4:102713410</th>\n",
       "      <th>4:102713410</th>\n",
       "      <th>4:102713412</th>\n",
       "      <th>4:102713412</th>\n",
       "      <th>4:102713419</th>\n",
       "      <th>4:102713419</th>\n",
       "      <th>4:102713419</th>\n",
       "      <th>...</th>\n",
       "      <th>8:11058039</th>\n",
       "      <th>8:11058071</th>\n",
       "      <th>8:11058203</th>\n",
       "      <th>8:11058345</th>\n",
       "      <th>8:11058400</th>\n",
       "      <th>8:11058400</th>\n",
       "      <th>8:11058478</th>\n",
       "      <th>8:11058479</th>\n",
       "      <th>8:11058892</th>\n",
       "      <th>8:11058990</th>\n",
       "    </tr>\n",
       "  </thead>\n",
       "  <tbody>\n",
       "    <tr>\n",
       "      <th>Betty_Ill_4901_2</th>\n",
       "      <td>0</td>\n",
       "      <td>0</td>\n",
       "      <td>0</td>\n",
       "      <td>0</td>\n",
       "      <td>0</td>\n",
       "      <td>1</td>\n",
       "      <td>1</td>\n",
       "      <td>0</td>\n",
       "      <td>0</td>\n",
       "      <td>0</td>\n",
       "      <td>...</td>\n",
       "      <td>0</td>\n",
       "      <td>0</td>\n",
       "      <td>0</td>\n",
       "      <td>0</td>\n",
       "      <td>0</td>\n",
       "      <td>0</td>\n",
       "      <td>0</td>\n",
       "      <td>0</td>\n",
       "      <td>2</td>\n",
       "      <td>0</td>\n",
       "    </tr>\n",
       "    <tr>\n",
       "      <th>ucl223ILL1</th>\n",
       "      <td>0</td>\n",
       "      <td>0</td>\n",
       "      <td>0</td>\n",
       "      <td>0</td>\n",
       "      <td>0</td>\n",
       "      <td>0</td>\n",
       "      <td>0</td>\n",
       "      <td>0</td>\n",
       "      <td>0</td>\n",
       "      <td>0</td>\n",
       "      <td>...</td>\n",
       "      <td>0</td>\n",
       "      <td>2</td>\n",
       "      <td>0</td>\n",
       "      <td>0</td>\n",
       "      <td>0</td>\n",
       "      <td>0</td>\n",
       "      <td>0</td>\n",
       "      <td>0</td>\n",
       "      <td>2</td>\n",
       "      <td>0</td>\n",
       "    </tr>\n",
       "    <tr>\n",
       "      <th>Betty_Ill_3822_2</th>\n",
       "      <td>0</td>\n",
       "      <td>1</td>\n",
       "      <td>0</td>\n",
       "      <td>0</td>\n",
       "      <td>0</td>\n",
       "      <td>1</td>\n",
       "      <td>1</td>\n",
       "      <td>0</td>\n",
       "      <td>0</td>\n",
       "      <td>0</td>\n",
       "      <td>...</td>\n",
       "      <td>0</td>\n",
       "      <td>2</td>\n",
       "      <td>0</td>\n",
       "      <td>0</td>\n",
       "      <td>0</td>\n",
       "      <td>0</td>\n",
       "      <td>0</td>\n",
       "      <td>0</td>\n",
       "      <td>2</td>\n",
       "      <td>0</td>\n",
       "    </tr>\n",
       "    <tr>\n",
       "      <th>CKG1996ILL1</th>\n",
       "      <td>0</td>\n",
       "      <td>2</td>\n",
       "      <td>1</td>\n",
       "      <td>0</td>\n",
       "      <td>0</td>\n",
       "      <td>0</td>\n",
       "      <td>0</td>\n",
       "      <td>0</td>\n",
       "      <td>0</td>\n",
       "      <td>0</td>\n",
       "      <td>...</td>\n",
       "      <td>0</td>\n",
       "      <td>2</td>\n",
       "      <td>0</td>\n",
       "      <td>0</td>\n",
       "      <td>0</td>\n",
       "      <td>0</td>\n",
       "      <td>0</td>\n",
       "      <td>0</td>\n",
       "      <td>2</td>\n",
       "      <td>0</td>\n",
       "    </tr>\n",
       "    <tr>\n",
       "      <th>Betty_Ill_5103_2</th>\n",
       "      <td>0</td>\n",
       "      <td>1</td>\n",
       "      <td>1</td>\n",
       "      <td>0</td>\n",
       "      <td>0</td>\n",
       "      <td>0</td>\n",
       "      <td>0</td>\n",
       "      <td>0</td>\n",
       "      <td>0</td>\n",
       "      <td>0</td>\n",
       "      <td>...</td>\n",
       "      <td>0</td>\n",
       "      <td>0</td>\n",
       "      <td>0</td>\n",
       "      <td>0</td>\n",
       "      <td>0</td>\n",
       "      <td>0</td>\n",
       "      <td>0</td>\n",
       "      <td>0</td>\n",
       "      <td>2</td>\n",
       "      <td>0</td>\n",
       "    </tr>\n",
       "    <tr>\n",
       "      <th>...</th>\n",
       "      <td>...</td>\n",
       "      <td>...</td>\n",
       "      <td>...</td>\n",
       "      <td>...</td>\n",
       "      <td>...</td>\n",
       "      <td>...</td>\n",
       "      <td>...</td>\n",
       "      <td>...</td>\n",
       "      <td>...</td>\n",
       "      <td>...</td>\n",
       "      <td>...</td>\n",
       "      <td>...</td>\n",
       "      <td>...</td>\n",
       "      <td>...</td>\n",
       "      <td>...</td>\n",
       "      <td>...</td>\n",
       "      <td>...</td>\n",
       "      <td>...</td>\n",
       "      <td>...</td>\n",
       "      <td>...</td>\n",
       "      <td>...</td>\n",
       "    </tr>\n",
       "    <tr>\n",
       "      <th>57739</th>\n",
       "      <td>0</td>\n",
       "      <td>0</td>\n",
       "      <td>0</td>\n",
       "      <td>0</td>\n",
       "      <td>0</td>\n",
       "      <td>0</td>\n",
       "      <td>0</td>\n",
       "      <td>0</td>\n",
       "      <td>0</td>\n",
       "      <td>0</td>\n",
       "      <td>...</td>\n",
       "      <td>0</td>\n",
       "      <td>2</td>\n",
       "      <td>2</td>\n",
       "      <td>2</td>\n",
       "      <td>2</td>\n",
       "      <td>2</td>\n",
       "      <td>2</td>\n",
       "      <td>2</td>\n",
       "      <td>2</td>\n",
       "      <td>2</td>\n",
       "    </tr>\n",
       "    <tr>\n",
       "      <th>1561</th>\n",
       "      <td>0</td>\n",
       "      <td>0</td>\n",
       "      <td>0</td>\n",
       "      <td>0</td>\n",
       "      <td>0</td>\n",
       "      <td>0</td>\n",
       "      <td>0</td>\n",
       "      <td>0</td>\n",
       "      <td>0</td>\n",
       "      <td>0</td>\n",
       "      <td>...</td>\n",
       "      <td>2</td>\n",
       "      <td>2</td>\n",
       "      <td>2</td>\n",
       "      <td>2</td>\n",
       "      <td>2</td>\n",
       "      <td>2</td>\n",
       "      <td>2</td>\n",
       "      <td>2</td>\n",
       "      <td>2</td>\n",
       "      <td>2</td>\n",
       "    </tr>\n",
       "    <tr>\n",
       "      <th>2546</th>\n",
       "      <td>0</td>\n",
       "      <td>0</td>\n",
       "      <td>0</td>\n",
       "      <td>0</td>\n",
       "      <td>0</td>\n",
       "      <td>0</td>\n",
       "      <td>0</td>\n",
       "      <td>0</td>\n",
       "      <td>0</td>\n",
       "      <td>0</td>\n",
       "      <td>...</td>\n",
       "      <td>2</td>\n",
       "      <td>2</td>\n",
       "      <td>0</td>\n",
       "      <td>0</td>\n",
       "      <td>0</td>\n",
       "      <td>0</td>\n",
       "      <td>2</td>\n",
       "      <td>2</td>\n",
       "      <td>2</td>\n",
       "      <td>2</td>\n",
       "    </tr>\n",
       "    <tr>\n",
       "      <th>686-1</th>\n",
       "      <td>0</td>\n",
       "      <td>1</td>\n",
       "      <td>1</td>\n",
       "      <td>0</td>\n",
       "      <td>0</td>\n",
       "      <td>0</td>\n",
       "      <td>0</td>\n",
       "      <td>0</td>\n",
       "      <td>0</td>\n",
       "      <td>0</td>\n",
       "      <td>...</td>\n",
       "      <td>2</td>\n",
       "      <td>2</td>\n",
       "      <td>2</td>\n",
       "      <td>2</td>\n",
       "      <td>2</td>\n",
       "      <td>2</td>\n",
       "      <td>2</td>\n",
       "      <td>2</td>\n",
       "      <td>2</td>\n",
       "      <td>2</td>\n",
       "    </tr>\n",
       "    <tr>\n",
       "      <th>40007</th>\n",
       "      <td>0</td>\n",
       "      <td>0</td>\n",
       "      <td>0</td>\n",
       "      <td>0</td>\n",
       "      <td>0</td>\n",
       "      <td>0</td>\n",
       "      <td>0</td>\n",
       "      <td>0</td>\n",
       "      <td>0</td>\n",
       "      <td>0</td>\n",
       "      <td>...</td>\n",
       "      <td>0</td>\n",
       "      <td>2</td>\n",
       "      <td>2</td>\n",
       "      <td>0</td>\n",
       "      <td>0</td>\n",
       "      <td>0</td>\n",
       "      <td>2</td>\n",
       "      <td>2</td>\n",
       "      <td>2</td>\n",
       "      <td>2</td>\n",
       "    </tr>\n",
       "  </tbody>\n",
       "</table>\n",
       "<p>1349 rows × 34122 columns</p>\n",
       "</div>"
      ],
      "text/plain": [
       "                  4:102711068  4:102712657  4:102713097  4:102713410  \\\n",
       "Betty_Ill_4901_2            0            0            0            0   \n",
       "ucl223ILL1                  0            0            0            0   \n",
       "Betty_Ill_3822_2            0            1            0            0   \n",
       "CKG1996ILL1                 0            2            1            0   \n",
       "Betty_Ill_5103_2            0            1            1            0   \n",
       "...                       ...          ...          ...          ...   \n",
       "57739                       0            0            0            0   \n",
       "1561                        0            0            0            0   \n",
       "2546                        0            0            0            0   \n",
       "686-1                       0            1            1            0   \n",
       "40007                       0            0            0            0   \n",
       "\n",
       "                  4:102713410  4:102713412  4:102713412  4:102713419  \\\n",
       "Betty_Ill_4901_2            0            1            1            0   \n",
       "ucl223ILL1                  0            0            0            0   \n",
       "Betty_Ill_3822_2            0            1            1            0   \n",
       "CKG1996ILL1                 0            0            0            0   \n",
       "Betty_Ill_5103_2            0            0            0            0   \n",
       "...                       ...          ...          ...          ...   \n",
       "57739                       0            0            0            0   \n",
       "1561                        0            0            0            0   \n",
       "2546                        0            0            0            0   \n",
       "686-1                       0            0            0            0   \n",
       "40007                       0            0            0            0   \n",
       "\n",
       "                  4:102713419  4:102713419  ...  8:11058039  8:11058071  \\\n",
       "Betty_Ill_4901_2            0            0  ...           0           0   \n",
       "ucl223ILL1                  0            0  ...           0           2   \n",
       "Betty_Ill_3822_2            0            0  ...           0           2   \n",
       "CKG1996ILL1                 0            0  ...           0           2   \n",
       "Betty_Ill_5103_2            0            0  ...           0           0   \n",
       "...                       ...          ...  ...         ...         ...   \n",
       "57739                       0            0  ...           0           2   \n",
       "1561                        0            0  ...           2           2   \n",
       "2546                        0            0  ...           2           2   \n",
       "686-1                       0            0  ...           2           2   \n",
       "40007                       0            0  ...           0           2   \n",
       "\n",
       "                  8:11058203  8:11058345  8:11058400  8:11058400  8:11058478  \\\n",
       "Betty_Ill_4901_2           0           0           0           0           0   \n",
       "ucl223ILL1                 0           0           0           0           0   \n",
       "Betty_Ill_3822_2           0           0           0           0           0   \n",
       "CKG1996ILL1                0           0           0           0           0   \n",
       "Betty_Ill_5103_2           0           0           0           0           0   \n",
       "...                      ...         ...         ...         ...         ...   \n",
       "57739                      2           2           2           2           2   \n",
       "1561                       2           2           2           2           2   \n",
       "2546                       0           0           0           0           2   \n",
       "686-1                      2           2           2           2           2   \n",
       "40007                      2           0           0           0           2   \n",
       "\n",
       "                  8:11058479  8:11058892  8:11058990  \n",
       "Betty_Ill_4901_2           0           2           0  \n",
       "ucl223ILL1                 0           2           0  \n",
       "Betty_Ill_3822_2           0           2           0  \n",
       "CKG1996ILL1                0           2           0  \n",
       "Betty_Ill_5103_2           0           2           0  \n",
       "...                      ...         ...         ...  \n",
       "57739                      2           2           2  \n",
       "1561                       2           2           2  \n",
       "2546                       2           2           2  \n",
       "686-1                      2           2           2  \n",
       "40007                      2           2           2  \n",
       "\n",
       "[1349 rows x 34122 columns]"
      ]
     },
     "execution_count": 184,
     "metadata": {},
     "output_type": "execute_result"
    }
   ],
   "source": [
    "mutations_top_variants_df"
   ]
  },
  {
   "cell_type": "code",
   "execution_count": 185,
   "metadata": {},
   "outputs": [],
   "source": [
    "mutations_top_variants_df.to_csv(\"../data/interim/mutations_top_variants_80_variance.csv\")"
   ]
  },
  {
   "cell_type": "markdown",
   "metadata": {},
   "source": [
    "# Graph the eigenvalues"
   ]
  },
  {
   "cell_type": "code",
   "execution_count": 109,
   "metadata": {},
   "outputs": [],
   "source": [
    "import matplotlib.pyplot as plt"
   ]
  },
  {
   "cell_type": "code",
   "execution_count": 113,
   "metadata": {},
   "outputs": [
    {
     "data": {
      "image/png": "[encoded data removed]",
      "text/plain": [
       "<Figure size 720x504 with 1 Axes>"
      ]
     },
     "metadata": {
      "needs_background": "light"
     },
     "output_type": "display_data"
    }
   ],
   "source": [
    "plt.figure(figsize=(10, 7))\n",
    "plt.bar(x=range(pca.singular_values_.shape[0]), \n",
    "        height=pca.singular_values_, )\n",
    "\n",
    "plt.ylabel('log of singular values')\n",
    "plt.xlabel('Principal components')\n",
    "plt.title('Elbow plot from PCA of mutations data')\n",
    "plt.xlim(-1, 45)\n",
    "# plt.ylim(0, 10)\n",
    "plt.show()"
   ]
  },
  {
   "cell_type": "code",
   "execution_count": null,
   "metadata": {},
   "outputs": [],
   "source": []
  }
 ],
 "metadata": {
  "kernelspec": {
   "display_name": "Python 3",
   "language": "python",
   "name": "python3"
  },
  "language_info": {
   "codemirror_mode": {
    "name": "ipython",
    "version": 3
   },
   "file_extension": ".py",
   "mimetype": "text/x-python",
   "name": "python",
   "nbconvert_exporter": "python",
   "pygments_lexer": "ipython3",
   "version": "3.6.9"
  }
 },
 "nbformat": 4,
 "nbformat_minor": 4
}
