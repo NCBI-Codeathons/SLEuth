{
 "cells": [
  {
   "cell_type": "markdown",
   "metadata": {},
   "source": [
    "# Import variants VCF file"
   ]
  },
  {
   "cell_type": "code",
   "execution_count": 1,
   "metadata": {},
   "outputs": [],
   "source": [
    "import numpy as np\n",
    "import pandas as pd\n",
    "import allel\n",
    "import matplotlib.pyplot as plt\n",
    "from sklearn.decomposition import PCA"
   ]
  },
  {
   "cell_type": "code",
   "execution_count": 2,
   "metadata": {},
   "outputs": [],
   "source": [
    "vcf = allel.read_vcf(\"../data/raw/1349 sample and all 253k unfiltered SNPs.vcf\", )"
   ]
  },
  {
   "cell_type": "code",
   "execution_count": 3,
   "metadata": {},
   "outputs": [],
   "source": [
    "variants = np.char.array(vcf[\"variants/CHROM\"].astype(str)) + \":\" + np.char.array(vcf[\"variants/POS\"].astype(str))"
   ]
  },
  {
   "cell_type": "code",
   "execution_count": 4,
   "metadata": {},
   "outputs": [],
   "source": [
    "vcf_arr = vcf[\"calldata/GT\"].astype(\"float\")\n",
    "vcf_arr[vcf_arr == -1] = np.nan"
   ]
  },
  {
   "cell_type": "code",
   "execution_count": 5,
   "metadata": {},
   "outputs": [
    {
     "data": {
      "text/plain": [
       "(1349, 253708)"
      ]
     },
     "execution_count": 5,
     "metadata": {},
     "output_type": "execute_result"
    }
   ],
   "source": [
    "mutations = vcf_arr\n",
    "# mutations = np.abs(mutations)\n",
    "mutations = mutations.sum(axis=2)\n",
    "mutations = mutations.T\n",
    "mutations.shape"
   ]
  },
  {
   "cell_type": "code",
   "execution_count": 6,
   "metadata": {},
   "outputs": [
    {
     "data": {
      "text/plain": [
       "(1349, 253708)"
      ]
     },
     "execution_count": 6,
     "metadata": {},
     "output_type": "execute_result"
    }
   ],
   "source": [
    "mutations_df = pd.DataFrame(data=mutations, index=vcf[\"samples\"], columns=variants)\n",
    "mutations_df.shape"
   ]
  },
  {
   "cell_type": "code",
   "execution_count": 7,
   "metadata": {},
   "outputs": [
    {
     "data": {
      "text/plain": [
       "(1349, 244975)"
      ]
     },
     "execution_count": 7,
     "metadata": {},
     "output_type": "execute_result"
    }
   ],
   "source": [
    "mutations_df.dropna(axis=1, how=\"any\", thresh=800, inplace=True)\n",
    "mutations_df.shape"
   ]
  },
  {
   "cell_type": "code",
   "execution_count": 8,
   "metadata": {},
   "outputs": [],
   "source": [
    "mutations_df.dropna(axis=0, how=\"any\", thresh=200000, inplace=True)\n",
    "mutations_df.fillna(value=0, inplace=True)"
   ]
  },
  {
   "cell_type": "code",
   "execution_count": 9,
   "metadata": {},
   "outputs": [
    {
     "data": {
      "text/plain": [
       "0"
      ]
     },
     "execution_count": 9,
     "metadata": {},
     "output_type": "execute_result"
    }
   ],
   "source": [
    "mutations_df.isna().sum().sum()"
   ]
  },
  {
   "cell_type": "markdown",
   "metadata": {},
   "source": [
    "# Subset variants by gene"
   ]
  },
  {
   "cell_type": "code",
   "execution_count": 80,
   "metadata": {
    "scrolled": true
   },
   "outputs": [
    {
     "name": "stderr",
     "output_type": "stream",
     "text": [
      "/Users/jonny/anaconda3/lib/python3.6/site-packages/IPython/core/interactiveshell.py:3058: DtypeWarning: Columns (2) have mixed types. Specify dtype option on import or set low_memory=False.\n",
      "  interactivity=interactivity, compiler=compiler, result=result)\n"
     ]
    }
   ],
   "source": [
    "variants_top56_genes = pd.read_table(\"../data/interim/variants_top56_genes.csv\", sep=\",\")\n",
    "variants_top56_genes = variants_top56_genes.filter(items=[\"Gene(s)\", \"Variant ID\"])"
   ]
  },
  {
   "cell_type": "code",
   "execution_count": 81,
   "metadata": {},
   "outputs": [],
   "source": [
    "variants_top56_genes.set_index(\"Variant ID\", inplace=True)"
   ]
  },
  {
   "cell_type": "code",
   "execution_count": 86,
   "metadata": {},
   "outputs": [],
   "source": [
    "genes_matched_variants = mutations_df.columns & variants_top56_genes.index"
   ]
  },
  {
   "cell_type": "code",
   "execution_count": 87,
   "metadata": {},
   "outputs": [],
   "source": [
    "mutations_gene_matched = mutations_df.T.join(variants_top56_genes, how=\"right\")"
   ]
  },
  {
   "cell_type": "code",
   "execution_count": 88,
   "metadata": {
    "scrolled": true
   },
   "outputs": [],
   "source": [
    "mutations_gene_gb = mutations_gene_matched.groupby(\"Gene(s)\")"
   ]
  },
  {
   "cell_type": "code",
   "execution_count": 89,
   "metadata": {
    "scrolled": true
   },
   "outputs": [
    {
     "name": "stdout",
     "output_type": "stream",
     "text": [
      "BANK1\n",
      "BIK\n",
      "BLK\n",
      "BTNL2\n",
      "CDHR5\n",
      "CEP70\n",
      "CHD7\n",
      "CNTNAP2\n",
      "DAP\n",
      "DAPK1\n",
      "DSCAM\n",
      "DSCAML1\n",
      "ETS1\n",
      "FAIM\n",
      "GSDMB\n",
      "HLA-DOB\n",
      "HLA-DQA1\n",
      "HLA-DQA2\n",
      "HLA-DQB1\n",
      "HLA-DQB2\n",
      "HLA-DRA\n",
      "HLA-DRB1\n",
      "HLA-DRB5\n",
      "ICA1\n",
      "ICAM1\n",
      "IKZF3\n",
      "IRF5\n",
      "IRF8\n",
      "ITGAM\n",
      "ITGAX\n",
      "MECP2\n",
      "NMNAT2\n",
      "PHRF1\n",
      "PRDM1\n",
      "PXK\n",
      "RAVER1\n",
      "ROBO3\n",
      "ROBO4\n",
      "SCUBE1\n",
      "SMG7\n",
      "STAT4\n",
      "TAP2\n",
      "TLR7\n",
      "TNFAIP3\n",
      "TNFRSF13B\n",
      "TNFSF4\n",
      "TNIP1\n",
      "TNPO3\n",
      "TSPO\n",
      "TTLL12\n",
      "TYK2\n",
      "UBE2L3\n",
      "XKR6\n"
     ]
    }
   ],
   "source": [
    "mutations_by_gene = {}\n",
    "for x in mutations_gene_gb.groups:\n",
    "    mutations_gene_df = mutations_gene_gb.get_group(x)\n",
    "    gene_name = mutations_gene_df[\"Gene(s)\"].iloc[0]\n",
    "    print(gene_name)\n",
    "    mutations_gene_df = mutations_gene_df.drop(columns=[\"Gene(s)\"]).dropna(axis=0).T\n",
    "#     mutations_gene_df.to_csv(\"../data/processed/SNPs_by_gene/\"+gene_name+\".csv\")\n",
    "    mutations_by_gene[gene_name] = mutations_gene_df"
   ]
  },
  {
   "cell_type": "markdown",
   "metadata": {},
   "source": [
    "# Gene - mutations"
   ]
  },
  {
   "cell_type": "code",
   "execution_count": 93,
   "metadata": {
    "scrolled": true
   },
   "outputs": [
    {
     "name": "stderr",
     "output_type": "stream",
     "text": [
      "/Users/jonny/anaconda3/lib/python3.6/site-packages/IPython/core/interactiveshell.py:3058: DtypeWarning: Columns (1) have mixed types. Specify dtype option on import or set low_memory=False.\n",
      "  interactivity=interactivity, compiler=compiler, result=result)\n"
     ]
    },
    {
     "data": {
      "text/html": [
       "<div>\n",
       "<style scoped>\n",
       "    .dataframe tbody tr th:only-of-type {\n",
       "        vertical-align: middle;\n",
       "    }\n",
       "\n",
       "    .dataframe tbody tr th {\n",
       "        vertical-align: top;\n",
       "    }\n",
       "\n",
       "    .dataframe thead th {\n",
       "        text-align: right;\n",
       "    }\n",
       "</style>\n",
       "<table border=\"1\" class=\"dataframe\">\n",
       "  <thead>\n",
       "    <tr style=\"text-align: right;\">\n",
       "      <th></th>\n",
       "      <th>Variant</th>\n",
       "      <th>Chromosome</th>\n",
       "      <th>Position</th>\n",
       "      <th>Reference</th>\n",
       "      <th>Alternate</th>\n",
       "      <th>Identifier</th>\n",
       "      <th>Classification</th>\n",
       "      <th>Priority</th>\n",
       "      <th>Gene(s)</th>\n",
       "      <th>Transcripts(s)</th>\n",
       "      <th>HGVS Description</th>\n",
       "    </tr>\n",
       "  </thead>\n",
       "  <tbody>\n",
       "    <tr>\n",
       "      <th>0</th>\n",
       "      <td>1:173152297-SNV</td>\n",
       "      <td>1</td>\n",
       "      <td>173152297</td>\n",
       "      <td>G</td>\n",
       "      <td>C</td>\n",
       "      <td>NaN</td>\n",
       "      <td>Downstream</td>\n",
       "      <td>2</td>\n",
       "      <td>TNFSF4</td>\n",
       "      <td>NM_001297562.1, NM_003326.4</td>\n",
       "      <td>g.173152297G&gt;C</td>\n",
       "    </tr>\n",
       "    <tr>\n",
       "      <th>1</th>\n",
       "      <td>1:173152373-SNV</td>\n",
       "      <td>1</td>\n",
       "      <td>173152373</td>\n",
       "      <td>C</td>\n",
       "      <td>G</td>\n",
       "      <td>rs112986214</td>\n",
       "      <td>Downstream</td>\n",
       "      <td>2</td>\n",
       "      <td>TNFSF4</td>\n",
       "      <td>NM_001297562.1, NM_003326.4</td>\n",
       "      <td>g.173152373C&gt;G</td>\n",
       "    </tr>\n",
       "    <tr>\n",
       "      <th>2</th>\n",
       "      <td>1:173152374-Ins</td>\n",
       "      <td>1</td>\n",
       "      <td>173152374</td>\n",
       "      <td>-</td>\n",
       "      <td>AGAAAG</td>\n",
       "      <td>rs10644515</td>\n",
       "      <td>Downstream</td>\n",
       "      <td>2</td>\n",
       "      <td>TNFSF4</td>\n",
       "      <td>NM_001297562.1, NM_003326.4</td>\n",
       "      <td>g.173152373_173152374insAGAAAG</td>\n",
       "    </tr>\n",
       "    <tr>\n",
       "      <th>3</th>\n",
       "      <td>1:173152442-SNV</td>\n",
       "      <td>1</td>\n",
       "      <td>173152442</td>\n",
       "      <td>C</td>\n",
       "      <td>T</td>\n",
       "      <td>NaN</td>\n",
       "      <td>Downstream</td>\n",
       "      <td>2</td>\n",
       "      <td>TNFSF4</td>\n",
       "      <td>NM_001297562.1, NM_003326.4</td>\n",
       "      <td>g.173152442C&gt;T</td>\n",
       "    </tr>\n",
       "    <tr>\n",
       "      <th>4</th>\n",
       "      <td>1:173152471-SNV</td>\n",
       "      <td>1</td>\n",
       "      <td>173152471</td>\n",
       "      <td>G</td>\n",
       "      <td>T</td>\n",
       "      <td>NaN</td>\n",
       "      <td>Downstream</td>\n",
       "      <td>2</td>\n",
       "      <td>TNFSF4</td>\n",
       "      <td>NM_001297562.1, NM_003326.4</td>\n",
       "      <td>g.173152471G&gt;T</td>\n",
       "    </tr>\n",
       "    <tr>\n",
       "      <th>...</th>\n",
       "      <td>...</td>\n",
       "      <td>...</td>\n",
       "      <td>...</td>\n",
       "      <td>...</td>\n",
       "      <td>...</td>\n",
       "      <td>...</td>\n",
       "      <td>...</td>\n",
       "      <td>...</td>\n",
       "      <td>...</td>\n",
       "      <td>...</td>\n",
       "      <td>...</td>\n",
       "    </tr>\n",
       "    <tr>\n",
       "      <th>216485</th>\n",
       "      <td>X:153387062-SNV</td>\n",
       "      <td>X</td>\n",
       "      <td>153387062</td>\n",
       "      <td>C</td>\n",
       "      <td>G</td>\n",
       "      <td>NaN</td>\n",
       "      <td>Intergenic</td>\n",
       "      <td>1</td>\n",
       "      <td>?</td>\n",
       "      <td>?</td>\n",
       "      <td>g.153387062C&gt;G</td>\n",
       "    </tr>\n",
       "    <tr>\n",
       "      <th>216486</th>\n",
       "      <td>X:153387153-SNV</td>\n",
       "      <td>X</td>\n",
       "      <td>153387153</td>\n",
       "      <td>G</td>\n",
       "      <td>C</td>\n",
       "      <td>NaN</td>\n",
       "      <td>Intergenic</td>\n",
       "      <td>1</td>\n",
       "      <td>?</td>\n",
       "      <td>?</td>\n",
       "      <td>g.153387153G&gt;C</td>\n",
       "    </tr>\n",
       "    <tr>\n",
       "      <th>216487</th>\n",
       "      <td>X:153387218-SNV</td>\n",
       "      <td>X</td>\n",
       "      <td>153387218</td>\n",
       "      <td>T</td>\n",
       "      <td>G</td>\n",
       "      <td>rs6655245</td>\n",
       "      <td>Intergenic</td>\n",
       "      <td>1</td>\n",
       "      <td>?</td>\n",
       "      <td>?</td>\n",
       "      <td>g.153387218T&gt;G</td>\n",
       "    </tr>\n",
       "    <tr>\n",
       "      <th>216488</th>\n",
       "      <td>X:153387377-SNV</td>\n",
       "      <td>X</td>\n",
       "      <td>153387377</td>\n",
       "      <td>G</td>\n",
       "      <td>A</td>\n",
       "      <td>NaN</td>\n",
       "      <td>Intergenic</td>\n",
       "      <td>1</td>\n",
       "      <td>?</td>\n",
       "      <td>?</td>\n",
       "      <td>g.153387377G&gt;A</td>\n",
       "    </tr>\n",
       "    <tr>\n",
       "      <th>216489</th>\n",
       "      <td>X:153387398-SNV</td>\n",
       "      <td>X</td>\n",
       "      <td>153387398</td>\n",
       "      <td>T</td>\n",
       "      <td>G</td>\n",
       "      <td>NaN</td>\n",
       "      <td>Intergenic</td>\n",
       "      <td>1</td>\n",
       "      <td>?</td>\n",
       "      <td>?</td>\n",
       "      <td>g.153387398T&gt;G</td>\n",
       "    </tr>\n",
       "  </tbody>\n",
       "</table>\n",
       "<p>216490 rows × 11 columns</p>\n",
       "</div>"
      ],
      "text/plain": [
       "                Variant Chromosome   Position Reference Alternate  \\\n",
       "0       1:173152297-SNV          1  173152297         G         C   \n",
       "1       1:173152373-SNV          1  173152373         C         G   \n",
       "2       1:173152374-Ins          1  173152374         -    AGAAAG   \n",
       "3       1:173152442-SNV          1  173152442         C         T   \n",
       "4       1:173152471-SNV          1  173152471         G         T   \n",
       "...                 ...        ...        ...       ...       ...   \n",
       "216485  X:153387062-SNV          X  153387062         C         G   \n",
       "216486  X:153387153-SNV          X  153387153         G         C   \n",
       "216487  X:153387218-SNV          X  153387218         T         G   \n",
       "216488  X:153387377-SNV          X  153387377         G         A   \n",
       "216489  X:153387398-SNV          X  153387398         T         G   \n",
       "\n",
       "         Identifier Classification  Priority Gene(s)  \\\n",
       "0               NaN     Downstream         2  TNFSF4   \n",
       "1       rs112986214     Downstream         2  TNFSF4   \n",
       "2        rs10644515     Downstream         2  TNFSF4   \n",
       "3               NaN     Downstream         2  TNFSF4   \n",
       "4               NaN     Downstream         2  TNFSF4   \n",
       "...             ...            ...       ...     ...   \n",
       "216485          NaN     Intergenic         1       ?   \n",
       "216486          NaN     Intergenic         1       ?   \n",
       "216487    rs6655245     Intergenic         1       ?   \n",
       "216488          NaN     Intergenic         1       ?   \n",
       "216489          NaN     Intergenic         1       ?   \n",
       "\n",
       "                     Transcripts(s)                HGVS Description  \n",
       "0       NM_001297562.1, NM_003326.4                  g.173152297G>C  \n",
       "1       NM_001297562.1, NM_003326.4                  g.173152373C>G  \n",
       "2       NM_001297562.1, NM_003326.4  g.173152373_173152374insAGAAAG  \n",
       "3       NM_001297562.1, NM_003326.4                  g.173152442C>T  \n",
       "4       NM_001297562.1, NM_003326.4                  g.173152471G>T  \n",
       "...                             ...                             ...  \n",
       "216485                            ?                  g.153387062C>G  \n",
       "216486                            ?                  g.153387153G>C  \n",
       "216487                            ?                  g.153387218T>G  \n",
       "216488                            ?                  g.153387377G>A  \n",
       "216489                            ?                  g.153387398T>G  \n",
       "\n",
       "[216490 rows x 11 columns]"
      ]
     },
     "execution_count": 93,
     "metadata": {},
     "output_type": "execute_result"
    }
   ],
   "source": [
    "variant_genes = pd.read_table(\"../data/raw/216k Variants with gene name.csv\", sep=\",\")\n",
    "variant_genes"
   ]
  },
  {
   "cell_type": "markdown",
   "metadata": {},
   "source": [
    "# Run PCA"
   ]
  },
  {
   "cell_type": "code",
   "execution_count": 100,
   "metadata": {},
   "outputs": [],
   "source": [
    "def get_top_k_components(snp_data, var_threshold=0.80, return_fit_transform=False):\n",
    "    pca = PCA()\n",
    "    pca.fit(snp_data)\n",
    "    top_k = np.argmax(np.cumsum(pca.singular_values_) / np.sum(pca.singular_values_) > var_threshold)\n",
    "    \n",
    "    if return_fit_transform:\n",
    "        return pca.transform(snp_data)[:, :top_k]\n",
    "    else:\n",
    "        return pca.components_[:top_k]\n",
    "\n",
    "def get_top_variant_by_coef(pca_components, coef_percentile=70):\n",
    "    gene_coefs_sum = np.abs(pca_components).sum(axis=0)\n",
    "    coefs_percentile = np.percentile(gene_coefs_sum, coef_percentile)\n",
    "    return np.where(gene_coefs_sum > coefs_percentile)\n",
    "\n",
    "def select_top_variants(snp_data, var_threshold=0.80, coef_percentile=70):\n",
    "    variants = snp_data.columns\n",
    "    top_k_components = get_top_k_components(snp_data, var_threshold)\n",
    "    top_variants_idx = get_top_variant_by_coef(top_k_components, coef_percentile)\n",
    "\n",
    "    return variants[top_variants_idx]"
   ]
  },
  {
   "cell_type": "code",
   "execution_count": null,
   "metadata": {},
   "outputs": [],
   "source": [
    "plt.figure(figsize=(10, 7))\n",
    "plt.title(\"Variant coefficients from PCA top-k components feature selection for \"+gene)\n",
    "plt.ylabel(\"coefficient\")\n",
    "plt.xlabel(\"genes\")\n",
    "plt.scatter(x=range(pca.components_.shape[1]), y=gene_coefs_sum)"
   ]
  },
  {
   "cell_type": "markdown",
   "metadata": {},
   "source": [
    "# Compute PCA projections of all SNP data"
   ]
  },
  {
   "cell_type": "code",
   "execution_count": 101,
   "metadata": {
    "scrolled": true
   },
   "outputs": [
    {
     "name": "stdout",
     "output_type": "stream",
     "text": [
      "BANK1 3961 (1167, 402)\n",
      "BIK 522 (1167, 161)\n",
      "BLK 2236 (1167, 327)\n",
      "BTNL2 664 (1167, 77)\n",
      "CDHR5 159 (1167, 56)\n",
      "CEP70 474 (1167, 146)\n",
      "CHD7 1740 (1167, 362)\n",
      "CNTNAP2 1532 (1167, 296)\n",
      "DAP 1597 (1167, 306)\n"
     ]
    },
    {
     "ename": "ValueError",
     "evalue": "Found array with 0 feature(s) (shape=(1167, 0)) while a minimum of 1 is required.",
     "output_type": "error",
     "traceback": [
      "\u001b[0;31m---------------------------------------------------------------------------\u001b[0m",
      "\u001b[0;31mValueError\u001b[0m                                Traceback (most recent call last)",
      "\u001b[0;32m<ipython-input-101-e77110615057>\u001b[0m in \u001b[0;36m<module>\u001b[0;34m\u001b[0m\n\u001b[1;32m      3\u001b[0m     pca_projs_by_gene[gene] = get_top_k_components(mutations_by_gene[gene], \n\u001b[1;32m      4\u001b[0m                                                    \u001b[0mvar_threshold\u001b[0m\u001b[0;34m=\u001b[0m\u001b[0;36m0.80\u001b[0m\u001b[0;34m,\u001b[0m\u001b[0;34m\u001b[0m\u001b[0;34m\u001b[0m\u001b[0m\n\u001b[0;32m----> 5\u001b[0;31m                                                    return_fit_transform=True)\n\u001b[0m\u001b[1;32m      6\u001b[0m     \u001b[0mprint\u001b[0m\u001b[0;34m(\u001b[0m\u001b[0mgene\u001b[0m\u001b[0;34m,\u001b[0m \u001b[0mmutations_by_gene\u001b[0m\u001b[0;34m[\u001b[0m\u001b[0mgene\u001b[0m\u001b[0;34m]\u001b[0m\u001b[0;34m.\u001b[0m\u001b[0mshape\u001b[0m\u001b[0;34m[\u001b[0m\u001b[0;36m1\u001b[0m\u001b[0;34m]\u001b[0m\u001b[0;34m,\u001b[0m  \u001b[0mpca_projs_by_gene\u001b[0m\u001b[0;34m[\u001b[0m\u001b[0mgene\u001b[0m\u001b[0;34m]\u001b[0m\u001b[0;34m.\u001b[0m\u001b[0mshape\u001b[0m\u001b[0;34m)\u001b[0m\u001b[0;34m\u001b[0m\u001b[0;34m\u001b[0m\u001b[0m\n",
      "\u001b[0;32m<ipython-input-100-a2cd506b24c6>\u001b[0m in \u001b[0;36mget_top_k_components\u001b[0;34m(snp_data, var_threshold, return_fit_transform)\u001b[0m\n\u001b[1;32m      1\u001b[0m \u001b[0;32mdef\u001b[0m \u001b[0mget_top_k_components\u001b[0m\u001b[0;34m(\u001b[0m\u001b[0msnp_data\u001b[0m\u001b[0;34m,\u001b[0m \u001b[0mvar_threshold\u001b[0m\u001b[0;34m=\u001b[0m\u001b[0;36m0.80\u001b[0m\u001b[0;34m,\u001b[0m \u001b[0mreturn_fit_transform\u001b[0m\u001b[0;34m=\u001b[0m\u001b[0;32mFalse\u001b[0m\u001b[0;34m)\u001b[0m\u001b[0;34m:\u001b[0m\u001b[0;34m\u001b[0m\u001b[0;34m\u001b[0m\u001b[0m\n\u001b[1;32m      2\u001b[0m     \u001b[0mpca\u001b[0m \u001b[0;34m=\u001b[0m \u001b[0mPCA\u001b[0m\u001b[0;34m(\u001b[0m\u001b[0;34m)\u001b[0m\u001b[0;34m\u001b[0m\u001b[0;34m\u001b[0m\u001b[0m\n\u001b[0;32m----> 3\u001b[0;31m     \u001b[0mpca\u001b[0m\u001b[0;34m.\u001b[0m\u001b[0mfit\u001b[0m\u001b[0;34m(\u001b[0m\u001b[0msnp_data\u001b[0m\u001b[0;34m)\u001b[0m\u001b[0;34m\u001b[0m\u001b[0;34m\u001b[0m\u001b[0m\n\u001b[0m\u001b[1;32m      4\u001b[0m     \u001b[0mtop_k\u001b[0m \u001b[0;34m=\u001b[0m \u001b[0mnp\u001b[0m\u001b[0;34m.\u001b[0m\u001b[0margmax\u001b[0m\u001b[0;34m(\u001b[0m\u001b[0mnp\u001b[0m\u001b[0;34m.\u001b[0m\u001b[0mcumsum\u001b[0m\u001b[0;34m(\u001b[0m\u001b[0mpca\u001b[0m\u001b[0;34m.\u001b[0m\u001b[0msingular_values_\u001b[0m\u001b[0;34m)\u001b[0m \u001b[0;34m/\u001b[0m \u001b[0mnp\u001b[0m\u001b[0;34m.\u001b[0m\u001b[0msum\u001b[0m\u001b[0;34m(\u001b[0m\u001b[0mpca\u001b[0m\u001b[0;34m.\u001b[0m\u001b[0msingular_values_\u001b[0m\u001b[0;34m)\u001b[0m \u001b[0;34m>\u001b[0m \u001b[0mvar_threshold\u001b[0m\u001b[0;34m)\u001b[0m\u001b[0;34m\u001b[0m\u001b[0;34m\u001b[0m\u001b[0m\n\u001b[1;32m      5\u001b[0m \u001b[0;34m\u001b[0m\u001b[0m\n",
      "\u001b[0;32m~/anaconda3/lib/python3.6/site-packages/sklearn/decomposition/pca.py\u001b[0m in \u001b[0;36mfit\u001b[0;34m(self, X, y)\u001b[0m\n\u001b[1;32m    339\u001b[0m             \u001b[0mReturns\u001b[0m \u001b[0mthe\u001b[0m \u001b[0minstance\u001b[0m \u001b[0mitself\u001b[0m\u001b[0;34m.\u001b[0m\u001b[0;34m\u001b[0m\u001b[0;34m\u001b[0m\u001b[0m\n\u001b[1;32m    340\u001b[0m         \"\"\"\n\u001b[0;32m--> 341\u001b[0;31m         \u001b[0mself\u001b[0m\u001b[0;34m.\u001b[0m\u001b[0m_fit\u001b[0m\u001b[0;34m(\u001b[0m\u001b[0mX\u001b[0m\u001b[0;34m)\u001b[0m\u001b[0;34m\u001b[0m\u001b[0;34m\u001b[0m\u001b[0m\n\u001b[0m\u001b[1;32m    342\u001b[0m         \u001b[0;32mreturn\u001b[0m \u001b[0mself\u001b[0m\u001b[0;34m\u001b[0m\u001b[0;34m\u001b[0m\u001b[0m\n\u001b[1;32m    343\u001b[0m \u001b[0;34m\u001b[0m\u001b[0m\n",
      "\u001b[0;32m~/anaconda3/lib/python3.6/site-packages/sklearn/decomposition/pca.py\u001b[0m in \u001b[0;36m_fit\u001b[0;34m(self, X)\u001b[0m\n\u001b[1;32m    380\u001b[0m \u001b[0;34m\u001b[0m\u001b[0m\n\u001b[1;32m    381\u001b[0m         X = check_array(X, dtype=[np.float64, np.float32], ensure_2d=True,\n\u001b[0;32m--> 382\u001b[0;31m                         copy=self.copy)\n\u001b[0m\u001b[1;32m    383\u001b[0m \u001b[0;34m\u001b[0m\u001b[0m\n\u001b[1;32m    384\u001b[0m         \u001b[0;31m# Handle n_components==None\u001b[0m\u001b[0;34m\u001b[0m\u001b[0;34m\u001b[0m\u001b[0;34m\u001b[0m\u001b[0m\n",
      "\u001b[0;32m~/anaconda3/lib/python3.6/site-packages/sklearn/utils/validation.py\u001b[0m in \u001b[0;36mcheck_array\u001b[0;34m(array, accept_sparse, accept_large_sparse, dtype, order, copy, force_all_finite, ensure_2d, allow_nd, ensure_min_samples, ensure_min_features, warn_on_dtype, estimator)\u001b[0m\n\u001b[1;32m    556\u001b[0m                              \u001b[0;34m\" a minimum of %d is required%s.\"\u001b[0m\u001b[0;34m\u001b[0m\u001b[0;34m\u001b[0m\u001b[0m\n\u001b[1;32m    557\u001b[0m                              % (n_features, array.shape, ensure_min_features,\n\u001b[0;32m--> 558\u001b[0;31m                                 context))\n\u001b[0m\u001b[1;32m    559\u001b[0m \u001b[0;34m\u001b[0m\u001b[0m\n\u001b[1;32m    560\u001b[0m     \u001b[0;32mif\u001b[0m \u001b[0mwarn_on_dtype\u001b[0m \u001b[0;32mand\u001b[0m \u001b[0mdtype_orig\u001b[0m \u001b[0;32mis\u001b[0m \u001b[0;32mnot\u001b[0m \u001b[0;32mNone\u001b[0m \u001b[0;32mand\u001b[0m \u001b[0marray\u001b[0m\u001b[0;34m.\u001b[0m\u001b[0mdtype\u001b[0m \u001b[0;34m!=\u001b[0m \u001b[0mdtype_orig\u001b[0m\u001b[0;34m:\u001b[0m\u001b[0;34m\u001b[0m\u001b[0;34m\u001b[0m\u001b[0m\n",
      "\u001b[0;31mValueError\u001b[0m: Found array with 0 feature(s) (shape=(1167, 0)) while a minimum of 1 is required."
     ]
    }
   ],
   "source": [
    "pca_projs_by_gene = {}\n",
    "for gene in mutations_by_gene.keys():\n",
    "    pca_projs_by_gene[gene] = get_top_k_components(mutations_by_gene[gene], \n",
    "                                                   var_threshold=0.80,\n",
    "                                                   return_fit_transform=True)\n",
    "    print(gene, mutations_by_gene[gene].shape[1],  pca_projs_by_gene[gene].shape)"
   ]
  },
  {
   "cell_type": "code",
   "execution_count": 231,
   "metadata": {
    "scrolled": true
   },
   "outputs": [
    {
     "data": {
      "text/plain": [
       "<BarContainer object of 53 artists>"
      ]
     },
     "execution_count": 231,
     "metadata": {},
     "output_type": "execute_result"
    },
    {
     "data": {
      "image/png": "[encoded data removed]",
      "text/plain": [
       "<Figure size 1800x1050 with 1 Axes>"
      ]
     },
     "metadata": {
      "needs_background": "light"
     },
     "output_type": "display_data"
    }
   ],
   "source": [
    "genes = list(pca_projs_by_gene.keys())\n",
    "num_top_components = [pca_projs_by_gene[gene].shape[1] for gene in genes]\n",
    "plt.figure(figsize=(12, 7), dpi=150)\n",
    "plt.title(\"Top-k PCA components selected with 80% variance threshold, split by genes\")\n",
    "plt.xlabel(\"Genes\")\n",
    "plt.xticks(rotation=90)\n",
    "plt.ylabel(\"# of PCA components selected\")\n",
    "plt.bar(x=genes, height=num_top_components)"
   ]
  },
  {
   "cell_type": "code",
   "execution_count": 208,
   "metadata": {},
   "outputs": [
    {
     "data": {
      "text/plain": [
       "(1349, 459)"
      ]
     },
     "execution_count": 208,
     "metadata": {},
     "output_type": "execute_result"
    }
   ],
   "source": [
    "# Concatenate all projections into one matrix\n",
    "pca_projs_by_gene[\"STAT4\"].shape"
   ]
  },
  {
   "cell_type": "code",
   "execution_count": 213,
   "metadata": {},
   "outputs": [
    {
     "data": {
      "text/plain": [
       "(1349, 17693)"
      ]
     },
     "execution_count": 213,
     "metadata": {},
     "output_type": "execute_result"
    }
   ],
   "source": [
    "pca_projs_concat = np.concatenate([pca_projs_by_gene[gene] for gene in pca_projs_by_gene.keys()],\n",
    "                                 axis=1)\n",
    "pca_projs_concat.shape"
   ]
  },
  {
   "cell_type": "code",
   "execution_count": null,
   "metadata": {},
   "outputs": [],
   "source": [
    "pca_projs_concat_df = pd.DataFrame(pca_projs_concat, index=mutations_gene_df.index)\n",
    "pca_projs_concat_df.T"
   ]
  },
  {
   "cell_type": "code",
   "execution_count": 217,
   "metadata": {},
   "outputs": [],
   "source": [
    "pca_projs_concat_df.T.to_csv(\"../data/interim/PCA_projections_80_variance.csv\")"
   ]
  },
  {
   "cell_type": "markdown",
   "metadata": {},
   "source": [
    "# Select variants by percentile"
   ]
  },
  {
   "cell_type": "code",
   "execution_count": 172,
   "metadata": {
    "scrolled": true
   },
   "outputs": [
    {
     "name": "stdout",
     "output_type": "stream",
     "text": [
      "BANK1 6828 2049\n",
      "BIK 911 273\n",
      "BLK 2937 881\n",
      "BTNL2 968 290\n",
      "CDHR5 338 102\n",
      "CEP70 972 292\n",
      "CHD7 2429 729\n",
      "CNTNAP2 2484 745\n",
      "DAP 2011 603\n",
      "DAPK1 6835 2051\n",
      "DSCAM 3179 954\n",
      "DSCAML1 998 300\n",
      "ETS1 2889 867\n",
      "FAIM 994 298\n",
      "GSDMB 685 206\n",
      "HLA-DOB 129 39\n",
      "HLA-DQA1 1275 383\n",
      "HLA-DQA2 492 148\n",
      "HLA-DQB1 1578 474\n",
      "HLA-DQB2 473 142\n",
      "HLA-DRA 263 79\n",
      "HLA-DRB1 3409 1023\n",
      "HLA-DRB5 3760 1127\n",
      "ICA1 4165 1250\n",
      "ICAM1 1043 313\n",
      "IKZF3 3781 1134\n",
      "IRF5 397 119\n",
      "IRF8 668 201\n",
      "ITGAM 2982 895\n",
      "ITGAX 1057 317\n",
      "MECP2 2902 871\n",
      "NMNAT2 5815 1745\n",
      "PHRF1 1800 540\n",
      "PRDM1 545 163\n",
      "PXK 3989 1197\n",
      "RAVER1 755 227\n",
      "ROBO3 351 105\n",
      "ROBO4 330 99\n",
      "SCUBE1 4588 1377\n",
      "SMG7 1941 582\n",
      "STAT4 2755 827\n",
      "TAP2 548 165\n",
      "TLR7 597 179\n",
      "TNFAIP3 305 92\n",
      "TNFRSF13B 1214 364\n",
      "TNFSF4 538 162\n",
      "TNIP1 1628 489\n",
      "TNPO3 4060 1218\n",
      "TSPO 633 190\n",
      "TTLL12 890 267\n",
      "TYK2 2155 647\n",
      "UBE2L3 4022 1207\n",
      "XKR6 10417 3125\n"
     ]
    }
   ],
   "source": [
    "top_variants_by_gene = {}\n",
    "for gene in mutations_by_gene.keys():\n",
    "    top_variants_by_gene[gene] = select_top_variants(mutations_by_gene[gene], var_threshold=0.80, coef_percentile=70)\n",
    "    print(gene, mutations_by_gene[gene].shape[1],  top_variants_by_gene[gene].shape[0])"
   ]
  },
  {
   "cell_type": "code",
   "execution_count": 176,
   "metadata": {},
   "outputs": [
    {
     "data": {
      "text/plain": [
       "34122"
      ]
     },
     "execution_count": 176,
     "metadata": {},
     "output_type": "execute_result"
    }
   ],
   "source": [
    "all_top_variants = []\n",
    "for gene in top_variants_by_gene.keys():\n",
    "    all_top_variants.extend(top_variants_by_gene[gene])\n",
    "len(all_top_variants)"
   ]
  },
  {
   "cell_type": "markdown",
   "metadata": {},
   "source": [
    "# Concatenate all selected variant into one DataFrame"
   ]
  },
  {
   "cell_type": "code",
   "execution_count": 182,
   "metadata": {},
   "outputs": [],
   "source": [
    "mutations_df = mutations_df.loc[:,~mutations_df.columns.duplicated()]"
   ]
  },
  {
   "cell_type": "code",
   "execution_count": 183,
   "metadata": {},
   "outputs": [],
   "source": [
    "mutations_top_variants_df = mutations_df.filter(items=all_top_variants)"
   ]
  },
  {
   "cell_type": "code",
   "execution_count": 184,
   "metadata": {},
   "outputs": [
    {
     "data": {
      "text/html": [
       "<div>\n",
       "<style scoped>\n",
       "    .dataframe tbody tr th:only-of-type {\n",
       "        vertical-align: middle;\n",
       "    }\n",
       "\n",
       "    .dataframe tbody tr th {\n",
       "        vertical-align: top;\n",
       "    }\n",
       "\n",
       "    .dataframe thead th {\n",
       "        text-align: right;\n",
       "    }\n",
       "</style>\n",
       "<table border=\"1\" class=\"dataframe\">\n",
       "  <thead>\n",
       "    <tr style=\"text-align: right;\">\n",
       "      <th></th>\n",
       "      <th>4:102711068</th>\n",
       "      <th>4:102712657</th>\n",
       "      <th>4:102713097</th>\n",
       "      <th>4:102713410</th>\n",
       "      <th>4:102713410</th>\n",
       "      <th>4:102713412</th>\n",
       "      <th>4:102713412</th>\n",
       "      <th>4:102713419</th>\n",
       "      <th>4:102713419</th>\n",
       "      <th>4:102713419</th>\n",
       "      <th>...</th>\n",
       "      <th>8:11058039</th>\n",
       "      <th>8:11058071</th>\n",
       "      <th>8:11058203</th>\n",
       "      <th>8:11058345</th>\n",
       "      <th>8:11058400</th>\n",
       "      <th>8:11058400</th>\n",
       "      <th>8:11058478</th>\n",
       "      <th>8:11058479</th>\n",
       "      <th>8:11058892</th>\n",
       "      <th>8:11058990</th>\n",
       "    </tr>\n",
       "  </thead>\n",
       "  <tbody>\n",
       "    <tr>\n",
       "      <th>Betty_Ill_4901_2</th>\n",
       "      <td>0</td>\n",
       "      <td>0</td>\n",
       "      <td>0</td>\n",
       "      <td>0</td>\n",
       "      <td>0</td>\n",
       "      <td>1</td>\n",
       "      <td>1</td>\n",
       "      <td>0</td>\n",
       "      <td>0</td>\n",
       "      <td>0</td>\n",
       "      <td>...</td>\n",
       "      <td>0</td>\n",
       "      <td>0</td>\n",
       "      <td>0</td>\n",
       "      <td>0</td>\n",
       "      <td>0</td>\n",
       "      <td>0</td>\n",
       "      <td>0</td>\n",
       "      <td>0</td>\n",
       "      <td>2</td>\n",
       "      <td>0</td>\n",
       "    </tr>\n",
       "    <tr>\n",
       "      <th>ucl223ILL1</th>\n",
       "      <td>0</td>\n",
       "      <td>0</td>\n",
       "      <td>0</td>\n",
       "      <td>0</td>\n",
       "      <td>0</td>\n",
       "      <td>0</td>\n",
       "      <td>0</td>\n",
       "      <td>0</td>\n",
       "      <td>0</td>\n",
       "      <td>0</td>\n",
       "      <td>...</td>\n",
       "      <td>0</td>\n",
       "      <td>2</td>\n",
       "      <td>0</td>\n",
       "      <td>0</td>\n",
       "      <td>0</td>\n",
       "      <td>0</td>\n",
       "      <td>0</td>\n",
       "      <td>0</td>\n",
       "      <td>2</td>\n",
       "      <td>0</td>\n",
       "    </tr>\n",
       "    <tr>\n",
       "      <th>Betty_Ill_3822_2</th>\n",
       "      <td>0</td>\n",
       "      <td>1</td>\n",
       "      <td>0</td>\n",
       "      <td>0</td>\n",
       "      <td>0</td>\n",
       "      <td>1</td>\n",
       "      <td>1</td>\n",
       "      <td>0</td>\n",
       "      <td>0</td>\n",
       "      <td>0</td>\n",
       "      <td>...</td>\n",
       "      <td>0</td>\n",
       "      <td>2</td>\n",
       "      <td>0</td>\n",
       "      <td>0</td>\n",
       "      <td>0</td>\n",
       "      <td>0</td>\n",
       "      <td>0</td>\n",
       "      <td>0</td>\n",
       "      <td>2</td>\n",
       "      <td>0</td>\n",
       "    </tr>\n",
       "    <tr>\n",
       "      <th>CKG1996ILL1</th>\n",
       "      <td>0</td>\n",
       "      <td>2</td>\n",
       "      <td>1</td>\n",
       "      <td>0</td>\n",
       "      <td>0</td>\n",
       "      <td>0</td>\n",
       "      <td>0</td>\n",
       "      <td>0</td>\n",
       "      <td>0</td>\n",
       "      <td>0</td>\n",
       "      <td>...</td>\n",
       "      <td>0</td>\n",
       "      <td>2</td>\n",
       "      <td>0</td>\n",
       "      <td>0</td>\n",
       "      <td>0</td>\n",
       "      <td>0</td>\n",
       "      <td>0</td>\n",
       "      <td>0</td>\n",
       "      <td>2</td>\n",
       "      <td>0</td>\n",
       "    </tr>\n",
       "    <tr>\n",
       "      <th>Betty_Ill_5103_2</th>\n",
       "      <td>0</td>\n",
       "      <td>1</td>\n",
       "      <td>1</td>\n",
       "      <td>0</td>\n",
       "      <td>0</td>\n",
       "      <td>0</td>\n",
       "      <td>0</td>\n",
       "      <td>0</td>\n",
       "      <td>0</td>\n",
       "      <td>0</td>\n",
       "      <td>...</td>\n",
       "      <td>0</td>\n",
       "      <td>0</td>\n",
       "      <td>0</td>\n",
       "      <td>0</td>\n",
       "      <td>0</td>\n",
       "      <td>0</td>\n",
       "      <td>0</td>\n",
       "      <td>0</td>\n",
       "      <td>2</td>\n",
       "      <td>0</td>\n",
       "    </tr>\n",
       "    <tr>\n",
       "      <th>...</th>\n",
       "      <td>...</td>\n",
       "      <td>...</td>\n",
       "      <td>...</td>\n",
       "      <td>...</td>\n",
       "      <td>...</td>\n",
       "      <td>...</td>\n",
       "      <td>...</td>\n",
       "      <td>...</td>\n",
       "      <td>...</td>\n",
       "      <td>...</td>\n",
       "      <td>...</td>\n",
       "      <td>...</td>\n",
       "      <td>...</td>\n",
       "      <td>...</td>\n",
       "      <td>...</td>\n",
       "      <td>...</td>\n",
       "      <td>...</td>\n",
       "      <td>...</td>\n",
       "      <td>...</td>\n",
       "      <td>...</td>\n",
       "      <td>...</td>\n",
       "    </tr>\n",
       "    <tr>\n",
       "      <th>57739</th>\n",
       "      <td>0</td>\n",
       "      <td>0</td>\n",
       "      <td>0</td>\n",
       "      <td>0</td>\n",
       "      <td>0</td>\n",
       "      <td>0</td>\n",
       "      <td>0</td>\n",
       "      <td>0</td>\n",
       "      <td>0</td>\n",
       "      <td>0</td>\n",
       "      <td>...</td>\n",
       "      <td>0</td>\n",
       "      <td>2</td>\n",
       "      <td>2</td>\n",
       "      <td>2</td>\n",
       "      <td>2</td>\n",
       "      <td>2</td>\n",
       "      <td>2</td>\n",
       "      <td>2</td>\n",
       "      <td>2</td>\n",
       "      <td>2</td>\n",
       "    </tr>\n",
       "    <tr>\n",
       "      <th>1561</th>\n",
       "      <td>0</td>\n",
       "      <td>0</td>\n",
       "      <td>0</td>\n",
       "      <td>0</td>\n",
       "      <td>0</td>\n",
       "      <td>0</td>\n",
       "      <td>0</td>\n",
       "      <td>0</td>\n",
       "      <td>0</td>\n",
       "      <td>0</td>\n",
       "      <td>...</td>\n",
       "      <td>2</td>\n",
       "      <td>2</td>\n",
       "      <td>2</td>\n",
       "      <td>2</td>\n",
       "      <td>2</td>\n",
       "      <td>2</td>\n",
       "      <td>2</td>\n",
       "      <td>2</td>\n",
       "      <td>2</td>\n",
       "      <td>2</td>\n",
       "    </tr>\n",
       "    <tr>\n",
       "      <th>2546</th>\n",
       "      <td>0</td>\n",
       "      <td>0</td>\n",
       "      <td>0</td>\n",
       "      <td>0</td>\n",
       "      <td>0</td>\n",
       "      <td>0</td>\n",
       "      <td>0</td>\n",
       "      <td>0</td>\n",
       "      <td>0</td>\n",
       "      <td>0</td>\n",
       "      <td>...</td>\n",
       "      <td>2</td>\n",
       "      <td>2</td>\n",
       "      <td>0</td>\n",
       "      <td>0</td>\n",
       "      <td>0</td>\n",
       "      <td>0</td>\n",
       "      <td>2</td>\n",
       "      <td>2</td>\n",
       "      <td>2</td>\n",
       "      <td>2</td>\n",
       "    </tr>\n",
       "    <tr>\n",
       "      <th>686-1</th>\n",
       "      <td>0</td>\n",
       "      <td>1</td>\n",
       "      <td>1</td>\n",
       "      <td>0</td>\n",
       "      <td>0</td>\n",
       "      <td>0</td>\n",
       "      <td>0</td>\n",
       "      <td>0</td>\n",
       "      <td>0</td>\n",
       "      <td>0</td>\n",
       "      <td>...</td>\n",
       "      <td>2</td>\n",
       "      <td>2</td>\n",
       "      <td>2</td>\n",
       "      <td>2</td>\n",
       "      <td>2</td>\n",
       "      <td>2</td>\n",
       "      <td>2</td>\n",
       "      <td>2</td>\n",
       "      <td>2</td>\n",
       "      <td>2</td>\n",
       "    </tr>\n",
       "    <tr>\n",
       "      <th>40007</th>\n",
       "      <td>0</td>\n",
       "      <td>0</td>\n",
       "      <td>0</td>\n",
       "      <td>0</td>\n",
       "      <td>0</td>\n",
       "      <td>0</td>\n",
       "      <td>0</td>\n",
       "      <td>0</td>\n",
       "      <td>0</td>\n",
       "      <td>0</td>\n",
       "      <td>...</td>\n",
       "      <td>0</td>\n",
       "      <td>2</td>\n",
       "      <td>2</td>\n",
       "      <td>0</td>\n",
       "      <td>0</td>\n",
       "      <td>0</td>\n",
       "      <td>2</td>\n",
       "      <td>2</td>\n",
       "      <td>2</td>\n",
       "      <td>2</td>\n",
       "    </tr>\n",
       "  </tbody>\n",
       "</table>\n",
       "<p>1349 rows × 34122 columns</p>\n",
       "</div>"
      ],
      "text/plain": [
       "                  4:102711068  4:102712657  4:102713097  4:102713410  \\\n",
       "Betty_Ill_4901_2            0            0            0            0   \n",
       "ucl223ILL1                  0            0            0            0   \n",
       "Betty_Ill_3822_2            0            1            0            0   \n",
       "CKG1996ILL1                 0            2            1            0   \n",
       "Betty_Ill_5103_2            0            1            1            0   \n",
       "...                       ...          ...          ...          ...   \n",
       "57739                       0            0            0            0   \n",
       "1561                        0            0            0            0   \n",
       "2546                        0            0            0            0   \n",
       "686-1                       0            1            1            0   \n",
       "40007                       0            0            0            0   \n",
       "\n",
       "                  4:102713410  4:102713412  4:102713412  4:102713419  \\\n",
       "Betty_Ill_4901_2            0            1            1            0   \n",
       "ucl223ILL1                  0            0            0            0   \n",
       "Betty_Ill_3822_2            0            1            1            0   \n",
       "CKG1996ILL1                 0            0            0            0   \n",
       "Betty_Ill_5103_2            0            0            0            0   \n",
       "...                       ...          ...          ...          ...   \n",
       "57739                       0            0            0            0   \n",
       "1561                        0            0            0            0   \n",
       "2546                        0            0            0            0   \n",
       "686-1                       0            0            0            0   \n",
       "40007                       0            0            0            0   \n",
       "\n",
       "                  4:102713419  4:102713419  ...  8:11058039  8:11058071  \\\n",
       "Betty_Ill_4901_2            0            0  ...           0           0   \n",
       "ucl223ILL1                  0            0  ...           0           2   \n",
       "Betty_Ill_3822_2            0            0  ...           0           2   \n",
       "CKG1996ILL1                 0            0  ...           0           2   \n",
       "Betty_Ill_5103_2            0            0  ...           0           0   \n",
       "...                       ...          ...  ...         ...         ...   \n",
       "57739                       0            0  ...           0           2   \n",
       "1561                        0            0  ...           2           2   \n",
       "2546                        0            0  ...           2           2   \n",
       "686-1                       0            0  ...           2           2   \n",
       "40007                       0            0  ...           0           2   \n",
       "\n",
       "                  8:11058203  8:11058345  8:11058400  8:11058400  8:11058478  \\\n",
       "Betty_Ill_4901_2           0           0           0           0           0   \n",
       "ucl223ILL1                 0           0           0           0           0   \n",
       "Betty_Ill_3822_2           0           0           0           0           0   \n",
       "CKG1996ILL1                0           0           0           0           0   \n",
       "Betty_Ill_5103_2           0           0           0           0           0   \n",
       "...                      ...         ...         ...         ...         ...   \n",
       "57739                      2           2           2           2           2   \n",
       "1561                       2           2           2           2           2   \n",
       "2546                       0           0           0           0           2   \n",
       "686-1                      2           2           2           2           2   \n",
       "40007                      2           0           0           0           2   \n",
       "\n",
       "                  8:11058479  8:11058892  8:11058990  \n",
       "Betty_Ill_4901_2           0           2           0  \n",
       "ucl223ILL1                 0           2           0  \n",
       "Betty_Ill_3822_2           0           2           0  \n",
       "CKG1996ILL1                0           2           0  \n",
       "Betty_Ill_5103_2           0           2           0  \n",
       "...                      ...         ...         ...  \n",
       "57739                      2           2           2  \n",
       "1561                       2           2           2  \n",
       "2546                       2           2           2  \n",
       "686-1                      2           2           2  \n",
       "40007                      2           2           2  \n",
       "\n",
       "[1349 rows x 34122 columns]"
      ]
     },
     "execution_count": 184,
     "metadata": {},
     "output_type": "execute_result"
    }
   ],
   "source": [
    "mutations_top_variants_df"
   ]
  },
  {
   "cell_type": "code",
   "execution_count": 185,
   "metadata": {},
   "outputs": [],
   "source": [
    "mutations_top_variants_df.to_csv(\"../data/interim/mutations_top_variants_80_variance.csv\")"
   ]
  },
  {
   "cell_type": "markdown",
   "metadata": {},
   "source": [
    "# Graph the eigenvalues"
   ]
  },
  {
   "cell_type": "code",
   "execution_count": 109,
   "metadata": {},
   "outputs": [],
   "source": [
    "import matplotlib.pyplot as plt"
   ]
  },
  {
   "cell_type": "code",
   "execution_count": 113,
   "metadata": {},
   "outputs": [
    {
     "data": {
      "image/png": "[encoded data removed]",
      "text/plain": [
       "<Figure size 720x504 with 1 Axes>"
      ]
     },
     "metadata": {
      "needs_background": "light"
     },
     "output_type": "display_data"
    }
   ],
   "source": [
    "plt.figure(figsize=(10, 7))\n",
    "plt.bar(x=range(pca.singular_values_.shape[0]), \n",
    "        height=pca.singular_values_, )\n",
    "\n",
    "plt.ylabel('log of singular values')\n",
    "plt.xlabel('Principal components')\n",
    "plt.title('Elbow plot from PCA of mutations data')\n",
    "plt.xlim(-1, 45)\n",
    "# plt.ylim(0, 10)\n",
    "plt.show()"
   ]
  },
  {
   "cell_type": "code",
   "execution_count": null,
   "metadata": {},
   "outputs": [],
   "source": []
  }
 ],
 "metadata": {
  "kernelspec": {
   "display_name": "Python 3",
   "language": "python",
   "name": "python3"
  },
  "language_info": {
   "codemirror_mode": {
    "name": "ipython",
    "version": 3
   },
   "file_extension": ".py",
   "mimetype": "text/x-python",
   "name": "python",
   "nbconvert_exporter": "python",
   "pygments_lexer": "ipython3",
   "version": "3.6.9"
  }
 },
 "nbformat": 4,
 "nbformat_minor": 4
}
